{
 "cells": [
  {
   "cell_type": "markdown",
   "source": [
    "# TP Final TDA2"
   ],
   "metadata": {
    "collapsed": false
   }
  },
  {
   "cell_type": "markdown",
   "source": [
    "## Importaciones"
   ],
   "metadata": {
    "collapsed": false
   }
  },
  {
   "cell_type": "code",
   "execution_count": 1,
   "metadata": {
    "collapsed": true
   },
   "outputs": [],
   "source": [
    "import pandas as pd\n",
    "import networkx as nx\n",
    "import numpy as np\n",
    "import random\n",
    "import matplotlib.pyplot as plt\n",
    "\n",
    "from social_networks_utils_main import embeddings\n",
    "from social_networks_utils_main import modelos\n",
    "from social_networks_utils_main import metricas\n",
    "from social_networks_utils_main.motifs import calculos\n",
    "from social_networks_utils_main.motifs import graficos\n",
    "from social_networks_utils_main.motifs import load\n",
    "from social_networks_utils_main import homofilia\n",
    "\n",
    "import Propietario"
   ]
  },
  {
   "cell_type": "markdown",
   "source": [
    "para ejecutar graphrole\n",
    "pip install graphrole\n",
    "ejecutar en python 3.9"
   ],
   "metadata": {
    "collapsed": false
   }
  },
  {
   "cell_type": "code",
   "execution_count": 2,
   "outputs": [],
   "source": [
    "from graphrole import RecursiveFeatureExtractor, RoleExtractor"
   ],
   "metadata": {
    "collapsed": false,
    "pycharm": {
     "name": "#%%\n"
    }
   }
  },
  {
   "cell_type": "markdown",
   "source": [
    "falla en grafo aleatorio"
   ],
   "metadata": {
    "collapsed": false
   }
  },
  {
   "cell_type": "code",
   "execution_count": 21,
   "outputs": [],
   "source": [
    "import time\n",
    "from social_networks_utils_main import logger\n",
    "LOG = logger.Logger(logger.LogLevel.INFO)\n",
    "\n",
    "def motif_grafo_eleatorios_b(grafo,n_motifs, iters=100):\n",
    "    \"\"\"\n",
    "    La funcion calcula baselines para luego hacer comparaciones de motifs\n",
    "    :param generador_baseline: Una función sin parámetros (supplier) que devuelve un modelo\n",
    "    aleatorizado (ver el módulo modelos.py)\n",
    "    :param conjuntos_motifs: Conjuntos de motifs a calcular las metrias. Se debe reibir una\n",
    "    lista de listas: [ [MOTIFS_2_VERTICES], [MOTIFS_3_VERTICES], ... ], dado que el calculo\n",
    "    para cada motif se hace en funcion de la cantidad de nodos, como indica en #calcular_motifs_en_paralelo\n",
    "    :param iters: cantidad de iteraciones a realizar\n",
    "    :return: los promedios y desvios estándar de cada motif\n",
    "    \"\"\"\n",
    "    conteos = []\n",
    "    t = time.time()\n",
    "    for i in range(iters):\n",
    "        LOG.info(\"Iteracion {}\".format(i + 1) + ((\"; anterior: {:.2f} segs\".format(time.time() - t)) if i > 0 else \"\"))\n",
    "        t = time.time()\n",
    "        g = modelos.configuration_model(metricas.distribucion_grados(grafo))\n",
    "        LOG.debug(\"Grafo generado, vamos por motifs\")\n",
    "        conteos.append(calculos.calcular_motifs(g, n_motifs))\n",
    "        LOG.debug(conteos[-1])\n",
    "\n",
    "    valores = np.array(conteos)\n",
    "    promedios = np.mean(valores, axis=0)\n",
    "    stds = np.std(valores, axis=0)\n",
    "    return promedios, stds"
   ],
   "metadata": {
    "collapsed": false,
    "pycharm": {
     "name": "#%%\n"
    }
   }
  },
  {
   "cell_type": "markdown",
   "source": [
    "## Dataset"
   ],
   "metadata": {
    "collapsed": false
   }
  },
  {
   "cell_type": "code",
   "execution_count": 3,
   "outputs": [
    {
     "data": {
      "text/plain": "    País o territorio(Territorios sin soberanía plena en cursiva)  \\\n0                                                China              \n1                                                China              \n2                                                China              \n3                                                China              \n4                                                China              \n..                                                 ...              \n636                                          Dinamarca              \n637                                              Catar              \n638                                         San Marino              \n639                                             Mónaco              \n640                                Ciudad del Vaticano              \n\n    Países o territorios vecinos(Territorios sin soberanía plena en cursiva)  \n0                                           Afganistán                        \n1                                                Bután                        \n2                                             Birmania                        \n3                                      Corea del Norte                        \n4                                                India                        \n..                                                 ...                        \n636                                           Alemania                        \n637                                     Arabia Saudita                        \n638                                             Italia                        \n639                                            Francia                        \n640                                             Italia                        \n\n[641 rows x 2 columns]",
      "text/html": "<div>\n<style scoped>\n    .dataframe tbody tr th:only-of-type {\n        vertical-align: middle;\n    }\n\n    .dataframe tbody tr th {\n        vertical-align: top;\n    }\n\n    .dataframe thead th {\n        text-align: right;\n    }\n</style>\n<table border=\"1\" class=\"dataframe\">\n  <thead>\n    <tr style=\"text-align: right;\">\n      <th></th>\n      <th>País o territorio(Territorios sin soberanía plena en cursiva)</th>\n      <th>Países o territorios vecinos(Territorios sin soberanía plena en cursiva)</th>\n    </tr>\n  </thead>\n  <tbody>\n    <tr>\n      <th>0</th>\n      <td>China</td>\n      <td>Afganistán</td>\n    </tr>\n    <tr>\n      <th>1</th>\n      <td>China</td>\n      <td>Bután</td>\n    </tr>\n    <tr>\n      <th>2</th>\n      <td>China</td>\n      <td>Birmania</td>\n    </tr>\n    <tr>\n      <th>3</th>\n      <td>China</td>\n      <td>Corea del Norte</td>\n    </tr>\n    <tr>\n      <th>4</th>\n      <td>China</td>\n      <td>India</td>\n    </tr>\n    <tr>\n      <th>...</th>\n      <td>...</td>\n      <td>...</td>\n    </tr>\n    <tr>\n      <th>636</th>\n      <td>Dinamarca</td>\n      <td>Alemania</td>\n    </tr>\n    <tr>\n      <th>637</th>\n      <td>Catar</td>\n      <td>Arabia Saudita</td>\n    </tr>\n    <tr>\n      <th>638</th>\n      <td>San Marino</td>\n      <td>Italia</td>\n    </tr>\n    <tr>\n      <th>639</th>\n      <td>Mónaco</td>\n      <td>Francia</td>\n    </tr>\n    <tr>\n      <th>640</th>\n      <td>Ciudad del Vaticano</td>\n      <td>Italia</td>\n    </tr>\n  </tbody>\n</table>\n<p>641 rows × 2 columns</p>\n</div>"
     },
     "execution_count": 3,
     "metadata": {},
     "output_type": "execute_result"
    }
   ],
   "source": [
    "fronteras_reales = pd.read_csv('fronteras_terrestres_del_mundo.csv')\n",
    "fronteras_reales"
   ],
   "metadata": {
    "collapsed": false,
    "pycharm": {
     "name": "#%%\n"
    }
   }
  },
  {
   "cell_type": "code",
   "execution_count": 4,
   "outputs": [
    {
     "data": {
      "text/plain": "          Pais                         frontera       tipo\n0       Canada  Newfoundland (island)|Terranova  terrestre\n1       Canada        New York (state)|New York  terrestre\n2       Canada                           Oregon  terrestre\n3       Canada                            Yukon  terrestre\n4        Yukon                           Alaska  terrestre\n..         ...                              ...        ...\n84  Madagascar                            Zaire     marina\n85       Zaire                     South Africa  terrestre\n86     Sumatra                        Australia     marina\n87      Borneo                        Australia     marina\n88        Java                        Australia     marina\n\n[89 rows x 3 columns]",
      "text/html": "<div>\n<style scoped>\n    .dataframe tbody tr th:only-of-type {\n        vertical-align: middle;\n    }\n\n    .dataframe tbody tr th {\n        vertical-align: top;\n    }\n\n    .dataframe thead th {\n        text-align: right;\n    }\n</style>\n<table border=\"1\" class=\"dataframe\">\n  <thead>\n    <tr style=\"text-align: right;\">\n      <th></th>\n      <th>Pais</th>\n      <th>frontera</th>\n      <th>tipo</th>\n    </tr>\n  </thead>\n  <tbody>\n    <tr>\n      <th>0</th>\n      <td>Canada</td>\n      <td>Newfoundland (island)|Terranova</td>\n      <td>terrestre</td>\n    </tr>\n    <tr>\n      <th>1</th>\n      <td>Canada</td>\n      <td>New York (state)|New York</td>\n      <td>terrestre</td>\n    </tr>\n    <tr>\n      <th>2</th>\n      <td>Canada</td>\n      <td>Oregon</td>\n      <td>terrestre</td>\n    </tr>\n    <tr>\n      <th>3</th>\n      <td>Canada</td>\n      <td>Yukon</td>\n      <td>terrestre</td>\n    </tr>\n    <tr>\n      <th>4</th>\n      <td>Yukon</td>\n      <td>Alaska</td>\n      <td>terrestre</td>\n    </tr>\n    <tr>\n      <th>...</th>\n      <td>...</td>\n      <td>...</td>\n      <td>...</td>\n    </tr>\n    <tr>\n      <th>84</th>\n      <td>Madagascar</td>\n      <td>Zaire</td>\n      <td>marina</td>\n    </tr>\n    <tr>\n      <th>85</th>\n      <td>Zaire</td>\n      <td>South Africa</td>\n      <td>terrestre</td>\n    </tr>\n    <tr>\n      <th>86</th>\n      <td>Sumatra</td>\n      <td>Australia</td>\n      <td>marina</td>\n    </tr>\n    <tr>\n      <th>87</th>\n      <td>Borneo</td>\n      <td>Australia</td>\n      <td>marina</td>\n    </tr>\n    <tr>\n      <th>88</th>\n      <td>Java</td>\n      <td>Australia</td>\n      <td>marina</td>\n    </tr>\n  </tbody>\n</table>\n<p>89 rows × 3 columns</p>\n</div>"
     },
     "execution_count": 4,
     "metadata": {},
     "output_type": "execute_result"
    }
   ],
   "source": [
    "fronteras_TEG = pd.read_csv('paisesFronteraTeg.csv')\n",
    "fronteras_TEG"
   ],
   "metadata": {
    "collapsed": false,
    "pycharm": {
     "name": "#%%\n"
    }
   }
  },
  {
   "cell_type": "code",
   "execution_count": 5,
   "outputs": [
    {
     "data": {
      "text/plain": "                               Pais     Continente Categoria\n0                            Canada  North America     canon\n1                             Yukon  North America     globo\n2                            Alaska  North America     barco\n3                         Greenland  North America     globo\n4                            Oregon  North America     canon\n5                        California  North America     canon\n6                            Mexico  North America     canon\n7         New York (state)|New York  North America     barco\n8   Newfoundland (island)|Terranova  North America     canon\n9                          Labrador  North America     canon\n10                    Great Britain         Europe     barco\n11                          Iceland         Europe     barco\n12                            Spain         Europe     globo\n13                           France         Europe     globo\n14                          Germany         Europe     barco\n15                            Italy         Europe     globo\n16                           Poland         Europe     canon\n17                           Russia         Europe     globo\n18                           Sweden         Europe     barco\n19                           Arabia           Asia     canon\n20             Aral Kazakhstan|Aral           Asia     canon\n21                            China           Asia     barco\n22                            India           Asia     globo\n23                             Iran           Asia     globo\n24                          Tartary           Asia     canon\n25   Taymyr Autonomous Okrug|Taymyr           Asia   comodin\n26                            Japan           Asia     canon\n27                        Kamchatka           Asia     globo\n28                          Siberia           Asia     barco\n29                         Mongolia           Asia     barco\n30                             Gobi           Asia     globo\n31                         Malaysia           Asia     canon\n32                           Turkey           Asia     barco\n33                           Israel           Asia     barco\n34                        Argentina  South America   comodin\n35                           Brazil  South America     barco\n36                             Peru  South America     barco\n37                         Colombia  South America     globo\n38                            Chile  South America     globo\n39                          Uruguay  South America     globo\n40                           Sahara         Africa     canon\n41                         Ethiopia         Africa     globo\n42                            Egypt         Africa     globo\n43                       Madagascar         Africa     barco\n44                            Zaire         Africa     barco\n45                     South Africa         Africa     canon\n46                          Sumatra        Oceania     globo\n47                           Borneo        Oceania     barco\n48                             Java        Oceania     canon\n49                        Australia        Oceania     canon",
      "text/html": "<div>\n<style scoped>\n    .dataframe tbody tr th:only-of-type {\n        vertical-align: middle;\n    }\n\n    .dataframe tbody tr th {\n        vertical-align: top;\n    }\n\n    .dataframe thead th {\n        text-align: right;\n    }\n</style>\n<table border=\"1\" class=\"dataframe\">\n  <thead>\n    <tr style=\"text-align: right;\">\n      <th></th>\n      <th>Pais</th>\n      <th>Continente</th>\n      <th>Categoria</th>\n    </tr>\n  </thead>\n  <tbody>\n    <tr>\n      <th>0</th>\n      <td>Canada</td>\n      <td>North America</td>\n      <td>canon</td>\n    </tr>\n    <tr>\n      <th>1</th>\n      <td>Yukon</td>\n      <td>North America</td>\n      <td>globo</td>\n    </tr>\n    <tr>\n      <th>2</th>\n      <td>Alaska</td>\n      <td>North America</td>\n      <td>barco</td>\n    </tr>\n    <tr>\n      <th>3</th>\n      <td>Greenland</td>\n      <td>North America</td>\n      <td>globo</td>\n    </tr>\n    <tr>\n      <th>4</th>\n      <td>Oregon</td>\n      <td>North America</td>\n      <td>canon</td>\n    </tr>\n    <tr>\n      <th>5</th>\n      <td>California</td>\n      <td>North America</td>\n      <td>canon</td>\n    </tr>\n    <tr>\n      <th>6</th>\n      <td>Mexico</td>\n      <td>North America</td>\n      <td>canon</td>\n    </tr>\n    <tr>\n      <th>7</th>\n      <td>New York (state)|New York</td>\n      <td>North America</td>\n      <td>barco</td>\n    </tr>\n    <tr>\n      <th>8</th>\n      <td>Newfoundland (island)|Terranova</td>\n      <td>North America</td>\n      <td>canon</td>\n    </tr>\n    <tr>\n      <th>9</th>\n      <td>Labrador</td>\n      <td>North America</td>\n      <td>canon</td>\n    </tr>\n    <tr>\n      <th>10</th>\n      <td>Great Britain</td>\n      <td>Europe</td>\n      <td>barco</td>\n    </tr>\n    <tr>\n      <th>11</th>\n      <td>Iceland</td>\n      <td>Europe</td>\n      <td>barco</td>\n    </tr>\n    <tr>\n      <th>12</th>\n      <td>Spain</td>\n      <td>Europe</td>\n      <td>globo</td>\n    </tr>\n    <tr>\n      <th>13</th>\n      <td>France</td>\n      <td>Europe</td>\n      <td>globo</td>\n    </tr>\n    <tr>\n      <th>14</th>\n      <td>Germany</td>\n      <td>Europe</td>\n      <td>barco</td>\n    </tr>\n    <tr>\n      <th>15</th>\n      <td>Italy</td>\n      <td>Europe</td>\n      <td>globo</td>\n    </tr>\n    <tr>\n      <th>16</th>\n      <td>Poland</td>\n      <td>Europe</td>\n      <td>canon</td>\n    </tr>\n    <tr>\n      <th>17</th>\n      <td>Russia</td>\n      <td>Europe</td>\n      <td>globo</td>\n    </tr>\n    <tr>\n      <th>18</th>\n      <td>Sweden</td>\n      <td>Europe</td>\n      <td>barco</td>\n    </tr>\n    <tr>\n      <th>19</th>\n      <td>Arabia</td>\n      <td>Asia</td>\n      <td>canon</td>\n    </tr>\n    <tr>\n      <th>20</th>\n      <td>Aral Kazakhstan|Aral</td>\n      <td>Asia</td>\n      <td>canon</td>\n    </tr>\n    <tr>\n      <th>21</th>\n      <td>China</td>\n      <td>Asia</td>\n      <td>barco</td>\n    </tr>\n    <tr>\n      <th>22</th>\n      <td>India</td>\n      <td>Asia</td>\n      <td>globo</td>\n    </tr>\n    <tr>\n      <th>23</th>\n      <td>Iran</td>\n      <td>Asia</td>\n      <td>globo</td>\n    </tr>\n    <tr>\n      <th>24</th>\n      <td>Tartary</td>\n      <td>Asia</td>\n      <td>canon</td>\n    </tr>\n    <tr>\n      <th>25</th>\n      <td>Taymyr Autonomous Okrug|Taymyr</td>\n      <td>Asia</td>\n      <td>comodin</td>\n    </tr>\n    <tr>\n      <th>26</th>\n      <td>Japan</td>\n      <td>Asia</td>\n      <td>canon</td>\n    </tr>\n    <tr>\n      <th>27</th>\n      <td>Kamchatka</td>\n      <td>Asia</td>\n      <td>globo</td>\n    </tr>\n    <tr>\n      <th>28</th>\n      <td>Siberia</td>\n      <td>Asia</td>\n      <td>barco</td>\n    </tr>\n    <tr>\n      <th>29</th>\n      <td>Mongolia</td>\n      <td>Asia</td>\n      <td>barco</td>\n    </tr>\n    <tr>\n      <th>30</th>\n      <td>Gobi</td>\n      <td>Asia</td>\n      <td>globo</td>\n    </tr>\n    <tr>\n      <th>31</th>\n      <td>Malaysia</td>\n      <td>Asia</td>\n      <td>canon</td>\n    </tr>\n    <tr>\n      <th>32</th>\n      <td>Turkey</td>\n      <td>Asia</td>\n      <td>barco</td>\n    </tr>\n    <tr>\n      <th>33</th>\n      <td>Israel</td>\n      <td>Asia</td>\n      <td>barco</td>\n    </tr>\n    <tr>\n      <th>34</th>\n      <td>Argentina</td>\n      <td>South America</td>\n      <td>comodin</td>\n    </tr>\n    <tr>\n      <th>35</th>\n      <td>Brazil</td>\n      <td>South America</td>\n      <td>barco</td>\n    </tr>\n    <tr>\n      <th>36</th>\n      <td>Peru</td>\n      <td>South America</td>\n      <td>barco</td>\n    </tr>\n    <tr>\n      <th>37</th>\n      <td>Colombia</td>\n      <td>South America</td>\n      <td>globo</td>\n    </tr>\n    <tr>\n      <th>38</th>\n      <td>Chile</td>\n      <td>South America</td>\n      <td>globo</td>\n    </tr>\n    <tr>\n      <th>39</th>\n      <td>Uruguay</td>\n      <td>South America</td>\n      <td>globo</td>\n    </tr>\n    <tr>\n      <th>40</th>\n      <td>Sahara</td>\n      <td>Africa</td>\n      <td>canon</td>\n    </tr>\n    <tr>\n      <th>41</th>\n      <td>Ethiopia</td>\n      <td>Africa</td>\n      <td>globo</td>\n    </tr>\n    <tr>\n      <th>42</th>\n      <td>Egypt</td>\n      <td>Africa</td>\n      <td>globo</td>\n    </tr>\n    <tr>\n      <th>43</th>\n      <td>Madagascar</td>\n      <td>Africa</td>\n      <td>barco</td>\n    </tr>\n    <tr>\n      <th>44</th>\n      <td>Zaire</td>\n      <td>Africa</td>\n      <td>barco</td>\n    </tr>\n    <tr>\n      <th>45</th>\n      <td>South Africa</td>\n      <td>Africa</td>\n      <td>canon</td>\n    </tr>\n    <tr>\n      <th>46</th>\n      <td>Sumatra</td>\n      <td>Oceania</td>\n      <td>globo</td>\n    </tr>\n    <tr>\n      <th>47</th>\n      <td>Borneo</td>\n      <td>Oceania</td>\n      <td>barco</td>\n    </tr>\n    <tr>\n      <th>48</th>\n      <td>Java</td>\n      <td>Oceania</td>\n      <td>canon</td>\n    </tr>\n    <tr>\n      <th>49</th>\n      <td>Australia</td>\n      <td>Oceania</td>\n      <td>canon</td>\n    </tr>\n  </tbody>\n</table>\n</div>"
     },
     "execution_count": 5,
     "metadata": {},
     "output_type": "execute_result"
    }
   ],
   "source": [
    "paises_TEG = pd.read_csv('paisesTEG.csv')\n",
    "paises_TEG"
   ],
   "metadata": {
    "collapsed": false,
    "pycharm": {
     "name": "#%%\n"
    }
   }
  },
  {
   "cell_type": "markdown",
   "source": [
    "## Transcripcion a grafos"
   ],
   "metadata": {
    "collapsed": false
   }
  },
  {
   "cell_type": "markdown",
   "source": [
    "### fronteras reales\n",
    "\n",
    "En el data set de fronteras reales solo se tienen e cuenta las fronteras terrestres."
   ],
   "metadata": {
    "collapsed": false
   }
  },
  {
   "cell_type": "code",
   "execution_count": 6,
   "outputs": [
    {
     "name": "stdout",
     "output_type": "stream",
     "text": [
      "163\n",
      "325\n"
     ]
    }
   ],
   "source": [
    "mundo_real = nx.Graph()\n",
    "for fila in fronteras_reales.iterrows():\n",
    "    territorio1 = fila[1]['País o territorio(Territorios sin soberanía plena en cursiva)']\n",
    "    territorio2 = fila[1]['Países o territorios vecinos(Territorios sin soberanía plena en cursiva)']\n",
    "    if not mundo_real.has_node(territorio1):\n",
    "        mundo_real.add_node(territorio1)\n",
    "    if not mundo_real.has_node(territorio2):\n",
    "        # existen mas territorios en los paises vecinos ya que no todos se repiten\n",
    "        mundo_real.add_node(territorio2)\n",
    "    if mundo_real.has_edge(territorio2, territorio1):\n",
    "        # evita los repetidos\n",
    "        continue\n",
    "    mundo_real.add_edge(territorio1, territorio2)\n",
    "\n",
    "print(mundo_real.number_of_nodes())\n",
    "print(mundo_real.number_of_edges())"
   ],
   "metadata": {
    "collapsed": false,
    "pycharm": {
     "name": "#%%\n"
    }
   }
  },
  {
   "cell_type": "markdown",
   "source": [
    "existen 2 conjuntos conexos"
   ],
   "metadata": {
    "collapsed": false
   }
  },
  {
   "cell_type": "code",
   "execution_count": 7,
   "outputs": [
    {
     "data": {
      "text/plain": "2"
     },
     "execution_count": 7,
     "metadata": {},
     "output_type": "execute_result"
    }
   ],
   "source": [
    "nx.number_connected_components(mundo_real)"
   ],
   "metadata": {
    "collapsed": false,
    "pycharm": {
     "name": "#%%\n"
    }
   }
  },
  {
   "cell_type": "markdown",
   "source": [
    "haciendo una busqueda se encontro que 'Haití' y 'República Dominicana' son los unicos 2 paises que solo estan conectados entre si por lo que se decidio sacarlos"
   ],
   "metadata": {
    "collapsed": false
   }
  },
  {
   "cell_type": "code",
   "execution_count": 8,
   "outputs": [
    {
     "name": "stdout",
     "output_type": "stream",
     "text": [
      "{'República Dominicana', 'Haití'}\n",
      "{'República Dominicana', 'Haití'}\n"
     ]
    }
   ],
   "source": [
    "for i in mundo_real:\n",
    "    h = nx.node_connected_component(mundo_real, i)\n",
    "    if len(h) > 10:#si la componente hubiese sido mas grande se hubiera planteado unificarlas\n",
    "        continue\n",
    "    print(h)"
   ],
   "metadata": {
    "collapsed": false,
    "pycharm": {
     "name": "#%%\n"
    }
   }
  },
  {
   "cell_type": "code",
   "execution_count": 9,
   "outputs": [
    {
     "data": {
      "text/plain": "161"
     },
     "execution_count": 9,
     "metadata": {},
     "output_type": "execute_result"
    }
   ],
   "source": [
    "mundo_real.remove_node('Haití')\n",
    "mundo_real.remove_node('República Dominicana')\n",
    "mundo_real.number_of_nodes()"
   ],
   "metadata": {
    "collapsed": false,
    "pycharm": {
     "name": "#%%\n"
    }
   }
  },
  {
   "cell_type": "markdown",
   "source": [
    "### datos TEG"
   ],
   "metadata": {
    "collapsed": false
   }
  },
  {
   "cell_type": "code",
   "execution_count": 10,
   "outputs": [],
   "source": [
    "listado_de_propietarios = Propietario.obtener_orden_de_turnos_de_jugadores()\n",
    "listado_de_orden_de_paises_TEG = Propietario.obtener_orden_de_propietarios()"
   ],
   "metadata": {
    "collapsed": false,
    "pycharm": {
     "name": "#%%\n"
    }
   }
  },
  {
   "cell_type": "code",
   "execution_count": 11,
   "outputs": [
    {
     "data": {
      "text/plain": "50"
     },
     "execution_count": 11,
     "metadata": {},
     "output_type": "execute_result"
    }
   ],
   "source": [
    "mundo_TEG = nx.Graph()\n",
    "for fila_de_datos in paises_TEG.iterrows():\n",
    "    propietario_actual = listado_de_orden_de_paises_TEG[mundo_TEG.number_of_nodes()]\n",
    "    mundo_TEG.add_node(fila_de_datos[1]['Pais'], continente=fila_de_datos[1]['Continente'], categoria=fila_de_datos[1]['Categoria'], propietario=Propietario.Propietario_TEG(propietario_actual))\n",
    "mundo_TEG.number_of_nodes()"
   ],
   "metadata": {
    "collapsed": false,
    "pycharm": {
     "name": "#%%\n"
    }
   }
  },
  {
   "cell_type": "code",
   "execution_count": 12,
   "outputs": [
    {
     "data": {
      "text/plain": "89"
     },
     "execution_count": 12,
     "metadata": {},
     "output_type": "execute_result"
    }
   ],
   "source": [
    "for fila in fronteras_TEG.iterrows():\n",
    "    territorio1 = fila[1]['Pais']\n",
    "    territorio2 = fila[1]['frontera']\n",
    "    tipo = fila[1]['tipo']\n",
    "    mundo_TEG.add_edge(territorio1, territorio2, tipo=tipo)\n",
    "mundo_TEG.number_of_edges()"
   ],
   "metadata": {
    "collapsed": false,
    "pycharm": {
     "name": "#%%\n"
    }
   }
  },
  {
   "cell_type": "markdown",
   "source": [
    "## Grafos aleatorios"
   ],
   "metadata": {
    "collapsed": false,
    "pycharm": {
     "name": "#%% md\n"
    }
   }
  },
  {
   "cell_type": "code",
   "execution_count": 13,
   "outputs": [],
   "source": [
    "# cantidades que mas se hacemejan al TEG\n",
    "cantidad_de_nodos = 50\n",
    "cantidad_de_aristas = 90\n",
    "\n",
    "def generar_grafo_erdy(alpha = 0.5, rango_de_error = 0.05, iteraciones_max = 20):\n",
    "    for i in range(iteraciones_max):\n",
    "        grafo_erdy = modelos.erdos_renyi(cantidad_de_nodos, cantidad_de_aristas/(alpha * cantidad_de_nodos))\n",
    "        if nx.number_connected_components(grafo_erdy) > 1:\n",
    "            continue\n",
    "        if grafo_erdy.number_of_edges() > cantidad_de_aristas * (1 + rango_de_error):\n",
    "            continue\n",
    "        if grafo_erdy.number_of_edges() < cantidad_de_aristas * (1 - rango_de_error):\n",
    "            continue\n",
    "        return grafo_erdy\n",
    "    print(\"falla al crear grafo\")\n",
    "    return grafo_erdy\n",
    "\n",
    "def generar_grafo_pot(alpha = 1, rango_de_error = 0.05, iteraciones_max = 20):\n",
    "    for i in range(iteraciones_max):\n",
    "        grafo_pot = modelos.preferential_attachment(False, 2, cantidad_de_nodos, cantidad_de_aristas/ (alpha * cantidad_de_nodos))\n",
    "        if nx.number_connected_components(grafo_pot) > 1:\n",
    "            continue\n",
    "        if grafo_pot.number_of_edges() > cantidad_de_aristas * (1 + rango_de_error):\n",
    "            continue\n",
    "        if grafo_pot.number_of_edges() < cantidad_de_aristas * (1 - rango_de_error):\n",
    "            continue\n",
    "        return grafo_pot\n",
    "    print(\"falla al crear grafo\")\n",
    "    return grafo_pot"
   ],
   "metadata": {
    "collapsed": false,
    "pycharm": {
     "name": "#%%\n"
    }
   }
  },
  {
   "cell_type": "code",
   "execution_count": 14,
   "outputs": [
    {
     "data": {
      "text/plain": "(50, 88)"
     },
     "execution_count": 14,
     "metadata": {},
     "output_type": "execute_result"
    }
   ],
   "source": [
    "grafo_erdy = generar_grafo_erdy()\n",
    "grafo_erdy.number_of_nodes(), grafo_erdy.number_of_edges()"
   ],
   "metadata": {
    "collapsed": false,
    "pycharm": {
     "name": "#%%\n"
    }
   }
  },
  {
   "cell_type": "code",
   "execution_count": 15,
   "outputs": [
    {
     "data": {
      "text/plain": "(50, 94)"
     },
     "execution_count": 15,
     "metadata": {},
     "output_type": "execute_result"
    }
   ],
   "source": [
    "grafo_pot = generar_grafo_pot(alpha=0.75)\n",
    "grafo_pot.number_of_nodes(), grafo_pot.number_of_edges()"
   ],
   "metadata": {
    "collapsed": false,
    "pycharm": {
     "name": "#%%\n"
    }
   }
  },
  {
   "cell_type": "markdown",
   "source": [
    "## Comparaciones"
   ],
   "metadata": {
    "collapsed": false
   }
  },
  {
   "cell_type": "code",
   "execution_count": 24,
   "outputs": [],
   "source": [
    "def distancia_media(excentricidad_del_grafo):\n",
    "    nodos = excentricidad_del_grafo.keys()\n",
    "    distancia_media = 0\n",
    "    for nodo in nodos:\n",
    "        distancia_media += excentricidad_del_grafo[nodo]\n",
    "    return distancia_media / len(excentricidad_del_grafo)\n",
    "\n",
    "def distribucion_de_valores(diccionario_de_valores_grafo):\n",
    "    nodos = diccionario_de_valores_grafo.keys()\n",
    "    max = 0\n",
    "    for nodo in nodos:\n",
    "        distancia = diccionario_de_valores_grafo[nodo]\n",
    "        if max < distancia:\n",
    "            max = distancia\n",
    "    grados = [0] * (max + 1)\n",
    "    for nodo in nodos:\n",
    "        distancia = diccionario_de_valores_grafo[nodo]\n",
    "        grados[distancia] += 1\n",
    "    return np.array(grados)\n",
    "\n",
    "def datos_varios(grafo, imprimir = False):\n",
    "    diametro = nx.diameter(grafo)\n",
    "    clustering = metricas.clustering(grafo)\n",
    "    grado_prom = metricas.grado_promedio(grafo)\n",
    "    distribucion_distancias = nx.eccentricity(grafo)\n",
    "    distancia = distancia_media(distribucion_distancias)\n",
    "    if imprimir:\n",
    "        print(\"nodos: \", grafo.number_of_nodes())\n",
    "        print(\"aristas: \", grafo.number_of_edges())\n",
    "        print(\"clustering: \", clustering)\n",
    "        print(\"diametro: \", diametro)\n",
    "        print(\"distancia media: \", distancia)\n",
    "        print(\"grado promedio: \", grado_prom)\n",
    "        # nx.draw_networkx(grafo,node_size = 10,with_labels=False,alpha=0.75)\n",
    "    return grado_prom, metricas.distribucion_grados(grafo), diametro, clustering, distancia, distribucion_de_valores(distribucion_distancias)"
   ],
   "metadata": {
    "collapsed": false,
    "pycharm": {
     "name": "#%%\n"
    }
   }
  },
  {
   "cell_type": "code",
   "execution_count": 17,
   "outputs": [],
   "source": [
    "def imprimir_datos(distribuciones, titulo, tipo, log=False):\n",
    "    # rango = np.arange(len(distribucion))\n",
    "    for distribucion in distribuciones:\n",
    "        plt.plot(distribucion[1], label=distribucion[0])\n",
    "\n",
    "    # Para obtener el valor de alfa vistualmente\n",
    "    # x_m = 4\n",
    "    # alpha_prima = 1.7\n",
    "    # exponencial = list(map(lambda k: 5 * k ** (-alpha_prima), rango[x_m:]))\n",
    "    # plt.plot(rango[x_m:], exponencial)\n",
    "    # print(\"Alfa: \", alpha_prima + 1)\n",
    "\n",
    "    plt.xlabel(tipo)\n",
    "    plt.ylabel(\"cantidad\")\n",
    "    if log:\n",
    "        plt.xscale(\"log\")\n",
    "        plt.yscale(\"log\")\n",
    "    plt.title(titulo)\n",
    "    plt.legend()\n",
    "    plt.show()\n",
    "\n",
    "def imprimir_graficos(distribucion):\n",
    "    titulo_grado = \"Distribucion de grado\"\n",
    "    titulo_distancia = \"Distribucion de distancia\"\n",
    "    titulo_cluster = \"Distribucion de clustering\"\n",
    "    grado = []\n",
    "    distancia = []\n",
    "    cluster = []\n",
    "    for (nombre, datos) in distribucion.items():\n",
    "        grado.append([nombre, datos[0]])\n",
    "        distancia.append([nombre, datos[1]])\n",
    "        cluster.append([nombre, datos[2]])\n",
    "    imprimir_datos(grado, titulo_grado, \"grado\")\n",
    "    imprimir_datos(grado, titulo_grado, \"grado\", log=True)\n",
    "    imprimir_datos(distancia, titulo_distancia, \"distancia\")\n",
    "    imprimir_datos(cluster, titulo_cluster, \"cluster\")\n"
   ],
   "metadata": {
    "collapsed": false,
    "pycharm": {
     "name": "#%%\n"
    }
   }
  },
  {
   "cell_type": "code",
   "execution_count": 18,
   "outputs": [],
   "source": [
    "def imprimir_comparaciones(d_grafos):\n",
    "    distribucion = {}\n",
    "    print(\"\\\\begin{center}\")\n",
    "    print(\"\\\\begin{tabular}{| c | c | c | c | c |}\")\n",
    "    print(\"\\t\\\\hline\")\n",
    "    print(\"\\tTipo de grafo & Grado prom & Diametro & Distancia media & Clustering \\\\\\\\ \\\\hline\")\n",
    "    for (nombre, grafo) in d_grafos.items():\n",
    "        grado_prom, distribucion_grado, diametro, clustering, distancia, distribucion_por_distancia = datos_varios(grafo)\n",
    "        distribucion[nombre] = [distribucion_grado, distribucion_por_distancia, clustering[0]]\n",
    "        print(\"\\t\", nombre, \" & \", round(grado_prom, 2), \" & \", diametro, \" & \", round(distancia, 2), \" & \", round(clustering[1], 2), \"\\\\\\\\\")\n",
    "    print(\"\\t\\\\hline\")\n",
    "    print(\"\\\\end{tabular}\")\n",
    "    print(\"\\\\end{center}\")\n",
    "    imprimir_graficos(distribucion)\n",
    "\n",
    "def ejecutar_comparaciones():\n",
    "    d_grafos = {}\n",
    "    d_grafos['TEG'] = mundo_TEG\n",
    "    d_grafos['mundo real'] = mundo_real\n",
    "    d_grafos['erdy'] = grafo_erdy\n",
    "    d_grafos['potencia'] = grafo_pot\n",
    "    imprimir_comparaciones(d_grafos)"
   ],
   "metadata": {
    "collapsed": false,
    "pycharm": {
     "name": "#%%\n"
    }
   }
  },
  {
   "cell_type": "code",
   "execution_count": 19,
   "outputs": [
    {
     "name": "stdout",
     "output_type": "stream",
     "text": [
      "\\begin{center}\n",
      "\\begin{tabular}{| c | c | c | c | c |}\n",
      "\t\\hline\n",
      "\tTipo de grafo & Grado prom & Diametro & Distancia media & Clustering \\\\ \\hline\n",
      "\t TEG  &  3.56  &  9  &  7.06  &  0.38 \\\\\n",
      "\t mundo real  &  4.02  &  21  &  15.17  &  0.48 \\\\\n",
      "\t erdy  &  3.52  &  6  &  5.06  &  0.06 \\\\\n",
      "\t potencia  &  3.76  &  5  &  4.62  &  0.06 \\\\\n",
      "\t\\hline\n",
      "\\end{tabular}\n",
      "\\end{center}\n"
     ]
    },
    {
     "data": {
      "text/plain": "<Figure size 432x288 with 1 Axes>",
      "image/png": "[encoded data removed]"
     },
     "metadata": {
      "needs_background": "light"
     },
     "output_type": "display_data"
    },
    {
     "data": {
      "text/plain": "<Figure size 432x288 with 1 Axes>",
      "image/png": "[encoded data removed]"
     },
     "metadata": {
      "needs_background": "light"
     },
     "output_type": "display_data"
    },
    {
     "data": {
      "text/plain": "<Figure size 432x288 with 1 Axes>",
      "image/png": "[encoded data removed]"
     },
     "metadata": {
      "needs_background": "light"
     },
     "output_type": "display_data"
    },
    {
     "data": {
      "text/plain": "<Figure size 432x288 with 1 Axes>",
      "image/png": "[encoded data removed]"
     },
     "metadata": {
      "needs_background": "light"
     },
     "output_type": "display_data"
    }
   ],
   "source": [
    "ejecutar_comparaciones()"
   ],
   "metadata": {
    "collapsed": false,
    "pycharm": {
     "name": "#%%\n"
    }
   }
  },
  {
   "cell_type": "markdown",
   "source": [
    "### Centralidad"
   ],
   "metadata": {
    "collapsed": false
   }
  },
  {
   "cell_type": "code",
   "execution_count": 66,
   "outputs": [],
   "source": [
    "def imprimir_datos_histograma(distribuciones, titulo, tipo):\n",
    "    # rango = np.arange(len(distribucion))\n",
    "    for distribucion in distribuciones:\n",
    "        plt.hist(distribucion[1], label=distribucion[0], alpha = 0.75)\n",
    "    plt.xlabel(tipo)\n",
    "    plt.ylabel(\"cantidad\")\n",
    "    plt.title(titulo)\n",
    "    plt.legend()\n",
    "    plt.show()\n",
    "\n",
    "def imprimir_graficos_centralidad(distribucion):\n",
    "    # rango_max_grado = 0\n",
    "    # nodos_max_grados = []\n",
    "    # rango_max_eigenvector = 0\n",
    "    # nodos_max_eigenvector = []\n",
    "    # rango_max_closeness = 0\n",
    "    # nodos_max_closeness = []\n",
    "    titulo_grado = \"Distribucion de centralidad (grado)\"\n",
    "    titulo_eigenvector = \"Distribucion de centralidad (eigenvector)\"\n",
    "    titulo_betweenness = \"Distribucion de centralidad (betweenness)\"\n",
    "    titulo_closeness = \"Distribucion de centralidad (closeness)\"\n",
    "    grado = []\n",
    "    distancia = []\n",
    "    betweenness = []\n",
    "    cluster = []\n",
    "    for (nombre, datos) in distribucion.items():\n",
    "        grado.append([nombre, datos[0]])\n",
    "        distancia.append([nombre, datos[1]])\n",
    "        betweenness.append([nombre, datos[2]])\n",
    "        cluster.append([nombre, datos[3]])\n",
    "    imprimir_datos_histograma(grado, titulo_grado, \"grado\")\n",
    "    imprimir_datos_histograma(distancia, titulo_eigenvector, \"eigenvector\")\n",
    "    imprimir_datos_histograma(distancia, titulo_betweenness, \"betweenness\")\n",
    "    imprimir_datos_histograma(cluster, titulo_closeness, \"closeness\")\n",
    "\n",
    "def imprimir_mas_centrales(d_nodos, tipo, nombre):\n",
    "    max = 0\n",
    "    n_max = []\n",
    "    for (nodo, centralidad) in d_nodos.items():\n",
    "        if max < centralidad:\n",
    "            max = centralidad\n",
    "            n_max = [nodo]\n",
    "        elif max == centralidad:\n",
    "            n_max.append(nodo)\n",
    "    print(\"centralidad de \", tipo, \"grafo: \", nombre, \"Centralidad: \", max, \"nodos: \", n_max)\n",
    "\n",
    "def centralidad_de_grafo(d_grafos):\n",
    "    d_centralidad = {}\n",
    "    for (nombre, grafo) in d_grafos.items():\n",
    "        lista = []\n",
    "        centralidad_de_grado = nx.degree_centrality(grafo)\n",
    "        centralidad_de_eigenvector = nx.eigenvector_centrality_numpy(grafo)\n",
    "        centralidad_de_betweenness = nx.betweenness_centrality(grafo)\n",
    "        centralidad_de_closeness = nx.closeness_centrality(grafo)\n",
    "        lista.append(centralidad_de_grado.values())\n",
    "        lista.append(centralidad_de_eigenvector.values())\n",
    "        lista.append(centralidad_de_betweenness.values())\n",
    "        lista.append(centralidad_de_closeness.values())\n",
    "        d_centralidad[nombre] = lista\n",
    "        imprimir_mas_centrales(centralidad_de_grado, \"grado\", nombre)\n",
    "        imprimir_mas_centrales(centralidad_de_eigenvector, \"eigenvector\", nombre)\n",
    "        imprimir_mas_centrales(centralidad_de_betweenness, \"betweenness\", nombre)\n",
    "        imprimir_mas_centrales(centralidad_de_closeness, \"closeness\", nombre)\n",
    "    imprimir_graficos_centralidad(d_centralidad)\n",
    "\n",
    "def ejecutar_comparaciones_centralidad():\n",
    "    d_grafos = {}\n",
    "    d_grafos['TEG'] = mundo_TEG\n",
    "    d_grafos['mundo real'] = mundo_real\n",
    "    d_grafos['erdy'] = grafo_erdy\n",
    "    d_grafos['potencia'] = grafo_pot\n",
    "    centralidad_de_grafo(d_grafos)"
   ],
   "metadata": {
    "collapsed": false,
    "pycharm": {
     "name": "#%%\n"
    }
   }
  },
  {
   "cell_type": "code",
   "execution_count": 67,
   "outputs": [
    {
     "name": "stdout",
     "output_type": "stream",
     "text": [
      "centralidad de  grado grafo:  TEG Centralidad:  0.16326530612244897 nodos:  ['China']\n",
      "centralidad de  eigenvector grafo:  TEG Centralidad:  0.4119119682483943 nodos:  ['China']\n",
      "centralidad de  betweenness grafo:  TEG Centralidad:  0.21783257134022432 nodos:  ['Iran']\n",
      "centralidad de  closeness grafo:  TEG Centralidad:  0.3141025641025641 nodos:  ['Iran']\n",
      "centralidad de  grado grafo:  mundo real Centralidad:  0.1 nodos:  ['China']\n",
      "centralidad de  eigenvector grafo:  mundo real Centralidad:  0.3858913041226459 nodos:  ['Rusia']\n",
      "centralidad de  betweenness grafo:  mundo real Centralidad:  0.3899001540663615 nodos:  ['Francia']\n",
      "centralidad de  closeness grafo:  mundo real Centralidad:  0.201765447667087 nodos:  ['Francia']\n",
      "centralidad de  grado grafo:  erdy Centralidad:  0.16326530612244897 nodos:  [45]\n",
      "centralidad de  eigenvector grafo:  erdy Centralidad:  0.27788862798875896 nodos:  [19]\n",
      "centralidad de  betweenness grafo:  erdy Centralidad:  0.2739289763524458 nodos:  [45]\n",
      "centralidad de  closeness grafo:  erdy Centralidad:  0.4336283185840708 nodos:  [45]\n",
      "centralidad de  grado grafo:  potencia Centralidad:  0.16326530612244897 nodos:  [24, 30]\n",
      "centralidad de  eigenvector grafo:  potencia Centralidad:  0.31537285094980794 nodos:  [24]\n",
      "centralidad de  betweenness grafo:  potencia Centralidad:  0.1639121720116618 nodos:  [30]\n",
      "centralidad de  closeness grafo:  potencia Centralidad:  0.4224137931034483 nodos:  [24]\n"
     ]
    },
    {
     "data": {
      "text/plain": "<Figure size 432x288 with 1 Axes>",
      "image/png": "[encoded data removed]"
     },
     "metadata": {
      "needs_background": "light"
     },
     "output_type": "display_data"
    },
    {
     "data": {
      "text/plain": "<Figure size 432x288 with 1 Axes>",
      "image/png": "[encoded data removed]"
     },
     "metadata": {
      "needs_background": "light"
     },
     "output_type": "display_data"
    },
    {
     "data": {
      "text/plain": "<Figure size 432x288 with 1 Axes>",
      "image/png": "[encoded data removed]"
     },
     "metadata": {
      "needs_background": "light"
     },
     "output_type": "display_data"
    },
    {
     "data": {
      "text/plain": "<Figure size 432x288 with 1 Axes>",
      "image/png": "[encoded data removed]"
     },
     "metadata": {
      "needs_background": "light"
     },
     "output_type": "display_data"
    }
   ],
   "source": [
    "ejecutar_comparaciones_centralidad()"
   ],
   "metadata": {
    "collapsed": false,
    "pycharm": {
     "name": "#%%\n"
    }
   }
  },
  {
   "cell_type": "markdown",
   "source": [
    "## comunidades"
   ],
   "metadata": {
    "collapsed": false
   }
  },
  {
   "cell_type": "markdown",
   "source": [
    "## homofilia"
   ],
   "metadata": {
    "collapsed": false
   }
  },
  {
   "cell_type": "markdown",
   "source": [
    "## Cambio de dueño"
   ],
   "metadata": {
    "collapsed": false
   }
  },
  {
   "cell_type": "code",
   "execution_count": 8,
   "outputs": [
    {
     "data": {
      "text/plain": "{'North America': 10,\n 'Europe': 9,\n 'Asia': 15,\n 'South America': 6,\n 'Africa': 6,\n 'Oceania': 4}"
     },
     "execution_count": 8,
     "metadata": {},
     "output_type": "execute_result"
    }
   ],
   "source": [
    "def cantidad_de_paises_por_continente():\n",
    "    resultado = {}\n",
    "    for continente in paises_TEG['Continente'].unique():\n",
    "        resultado[continente] = 0\n",
    "    for continente in paises_TEG['Continente']:\n",
    "        resultado[continente] += 1\n",
    "    return resultado\n",
    "paises_de_continentes_TEG = cantidad_de_paises_por_continente()\n",
    "paises_de_continentes_TEG"
   ],
   "metadata": {
    "collapsed": false,
    "pycharm": {
     "name": "#%%\n"
    }
   }
  },
  {
   "cell_type": "code",
   "execution_count": 9,
   "outputs": [],
   "source": [
    "def paises_que_pertenecen_al_jugador(jugador, TEG):\n",
    "    resultado = []\n",
    "    for nodo in TEG.nodes:\n",
    "        pais = TEG.nodes[nodo]\n",
    "        # print(pais)\n",
    "        if pais['propietario'].propietario_actual() == jugador:\n",
    "            resultado.append(nodo)\n",
    "    return resultado\n",
    "\n",
    "def pais_es_fronterizo(pais, TEG):\n",
    "    jugador_propietario = TEG.nodes[pais]['propietario'].propietario_actual()\n",
    "    for adyacentes in TEG.neighbors(pais):\n",
    "        if jugador_propietario != TEG.nodes[adyacentes]['propietario'].propietario_actual():\n",
    "            return True\n",
    "    return False\n",
    "\n",
    "def paises_que_pueden_atacar(jugador, TEG):\n",
    "    paises_atacantes_del_jugador = []\n",
    "    for pais in paises_que_pertenecen_al_jugador(jugador, TEG):\n",
    "        if pais_es_fronterizo(pais, TEG) and TEG.nodes[pais]['propietario'].puede_atacar():\n",
    "            paises_atacantes_del_jugador.append(pais)\n",
    "    return paises_atacantes_del_jugador\n",
    "\n",
    "def cantidad_de_nuevos_ejercitos(jugador, TEG):\n",
    "    total = len(paises_que_pertenecen_al_jugador(jugador, TEG)) // 2\n",
    "    if total < 3:\n",
    "        total = 3\n",
    "    return total\n",
    "\n",
    "def triunfo(jugador, TEG):\n",
    "    return len(paises_que_pertenecen_al_jugador(jugador, TEG)) >= 30\n",
    "\n",
    "def paises_a_reforzar(jugador, refuerzos, TEG):\n",
    "    paises_posibles_a_reforzar = paises_que_pertenecen_al_jugador(jugador, TEG)\n",
    "    if len(paises_posibles_a_reforzar) == 0:\n",
    "        return []\n",
    "    listado_probabilistico = []\n",
    "    resultado = []\n",
    "    for pais in paises_posibles_a_reforzar:\n",
    "        if not pais_es_fronterizo(pais, TEG):\n",
    "            continue\n",
    "        for adyacentes in TEG.neighbors(pais):\n",
    "            listado_probabilistico += [pais] * TEG.nodes[adyacentes]['propietario'].cantidad_de_ejercitos()\n",
    "    # print(listado_probabilistico)\n",
    "    random.shuffle(listado_probabilistico)\n",
    "    for refuerzo in range(refuerzos):\n",
    "        if len(listado_probabilistico) == 1:\n",
    "            pais = paises_posibles_a_reforzar[0]\n",
    "        else:\n",
    "            pais = listado_probabilistico[random.randint(0, len(listado_probabilistico)-1)]\n",
    "        resultado.append(pais)\n",
    "    return resultado\n",
    "\n",
    "def reforzar_paises(jugador, refuerzos, TEG):\n",
    "    paises = paises_a_reforzar(jugador, refuerzos, TEG)\n",
    "    if len(paises) == 0:\n",
    "        return\n",
    "    for pais in paises:\n",
    "        TEG.nodes[pais]['propietario'].reforzar(1)\n",
    "\n",
    "def paises_que_puede_atacar(pais, TEG):\n",
    "    resultado = []\n",
    "    jugador_propietario = TEG.nodes[pais]['propietario'].propietario_actual()\n",
    "    for adyacente in TEG.neighbors(pais):\n",
    "        if jugador_propietario == TEG.nodes[adyacente]['propietario'].propietario_actual():\n",
    "            continue\n",
    "        resultado.append(adyacente)\n",
    "    return resultado\n",
    "\n",
    "def continentes_controlados_por_el_jugador(jugador, valor_continentes, TEG):\n",
    "    continentes = {}\n",
    "    resultado = []\n",
    "    for pais in paises_que_pertenecen_al_jugador(jugador, TEG):\n",
    "        continente = TEG.nodes[pais]['continente']\n",
    "        if continente in continentes.keys():\n",
    "            continentes[continente] += 1\n",
    "        else:\n",
    "            continentes[continente] = 0\n",
    "    for continente in continentes.keys():\n",
    "        if continentes[continente] == valor_continentes[continente]:\n",
    "            resultado.append(continente)\n",
    "    return resultado\n",
    "\n",
    "def ejercitos_continentales(continentes_controlados):\n",
    "    continentes = {'North America': 5, 'Europe': 5, 'Asia': 7, 'South America': 3, 'Africa': 3, 'Oceania': 2}\n",
    "    cantidad_extra = 0\n",
    "    for cotinente in continentes_controlados:\n",
    "        cantidad_extra += continentes[cotinente]\n",
    "    return cantidad_extra"
   ],
   "metadata": {
    "collapsed": false,
    "pycharm": {
     "name": "#%%\n"
    }
   }
  },
  {
   "cell_type": "code",
   "execution_count": 10,
   "outputs": [],
   "source": [
    "def inicio_de_juego(jugadores, TEG):\n",
    "    for jugador in jugadores:\n",
    "        reforzar_paises(jugador, 5, TEG)\n",
    "    for jugador in jugadores:\n",
    "        reforzar_paises(jugador, 3, TEG)\n",
    "    return\n",
    "\n",
    "def fase_refuerzos(jugador, TEG):\n",
    "    refuerzos = cantidad_de_nuevos_ejercitos(jugador, TEG)\n",
    "    continentes_controlados = continentes_controlados_por_el_jugador(jugador, paises_de_continentes_TEG, TEG)#hardcodeado \"paises_de_continentes_TEG\"\n",
    "    refuerzos += ejercitos_continentales(continentes_controlados)\n",
    "    reforzar_paises(jugador, refuerzos, TEG)\n",
    "\n",
    "def fase_ataque(jugador, TEG):\n",
    "    atacantes = paises_que_pueden_atacar(jugador, TEG)\n",
    "    while len(atacantes) > 0:\n",
    "        for pais in atacantes:\n",
    "            defensores = paises_que_puede_atacar(pais, TEG)\n",
    "            while pais_es_fronterizo(pais, TEG) and TEG.nodes[pais]['propietario'].puede_atacar():\n",
    "                if len(defensores) == 1:\n",
    "                    defensor = defensores[0]\n",
    "                else:\n",
    "                    defensor = defensores[random.randint(0, len(defensores)-1)]\n",
    "                TEG.nodes[defensor]['propietario'].defender(TEG.nodes[pais]['propietario'])\n",
    "        atacantes = paises_que_pueden_atacar(jugador, TEG)\n",
    "\n",
    "def fase_reagrupamiento(jugador, TEG):\n",
    "    ejercitos_a_reposicionar = 0\n",
    "    for pais in paises_que_pertenecen_al_jugador(jugador, TEG):\n",
    "        if not pais_es_fronterizo(pais, TEG) and TEG.nodes[pais]['propietario'].puede_atacar():\n",
    "            exceso = TEG.nodes[pais]['propietario'].cantidad_de_ejercitos() - 1\n",
    "            ejercitos_a_reposicionar += exceso\n",
    "            TEG.nodes[pais]['propietario'].desplazar(exceso)\n",
    "    reforzar_paises(jugador, ejercitos_a_reposicionar, TEG)\n"
   ],
   "metadata": {
    "collapsed": false,
    "pycharm": {
     "name": "#%%\n"
    }
   }
  },
  {
   "cell_type": "code",
   "execution_count": 98,
   "outputs": [],
   "source": [
    "def rondas_por_turnos_TEG(jugadores, TEG, primer_turno=False):\n",
    "    for jugador in jugadores:\n",
    "        print(\"Ronda del jugador: \", jugador)\n",
    "        if len(paises_que_pertenecen_al_jugador(jugador, TEG)) == 0:\n",
    "            print(\"jugador perdio.\")\n",
    "            continue\n",
    "        if not primer_turno:\n",
    "            fase_refuerzos(jugador, TEG)\n",
    "        fase_ataque(jugador, TEG)\n",
    "        if triunfo(jugador, TEG):\n",
    "            #No nesesita mantener los 30 paises solo conquistarlos\n",
    "            print(\"jugador: \", jugador, \" es el ganador.\")\n",
    "            return True\n",
    "        fase_reagrupamiento(jugador, TEG)\n",
    "    return False\n",
    "\n",
    "def partida_de_TEG(lista_de_jugadores, TEG, estadisticas, turnos_maximos=100):\n",
    "    inicio_de_juego(lista_de_jugadores, TEG)\n",
    "    turno = 1\n",
    "    victoria = False\n",
    "    while turno <= turnos_maximos and not victoria:\n",
    "        print(\"Turno: \", turno)\n",
    "        victoria = rondas_por_turnos_TEG(lista_de_jugadores, TEG, turno==1)\n",
    "        if victoria:\n",
    "            print(\"Fin del juego\")\n",
    "            continue\n",
    "        print(\"estado actual:\")\n",
    "        for jugador in listado_de_propietarios:\n",
    "            cantidad = len(paises_que_pertenecen_al_jugador(jugador, mundo_TEG))\n",
    "            print(\"    \", jugador, cantidad)\n",
    "            estadisticas[jugador].append(cantidad)\n",
    "        turno += 1\n",
    "    if not victoria:\n",
    "        print(\"se acabaron los turnos, no hay ganadores.\")\n",
    "    return turno\n"
   ],
   "metadata": {
    "collapsed": false,
    "pycharm": {
     "name": "#%%\n"
    }
   }
  },
  {
   "cell_type": "code",
   "execution_count": 150,
   "outputs": [
    {
     "name": "stdout",
     "output_type": "stream",
     "text": [
      "['Negro', 'Rojo', 'Verde', 'Amarillo', 'Magenta', 'Azul']\n",
      "Turno:  1\n",
      "Ronda del jugador:  Negro\n",
      "Ronda del jugador:  Rojo\n",
      "Ronda del jugador:  Verde\n",
      "Ronda del jugador:  Amarillo\n",
      "Ronda del jugador:  Magenta\n",
      "Ronda del jugador:  Azul\n",
      "estado actual:\n",
      "     Negro 7\n",
      "     Rojo 10\n",
      "     Verde 8\n",
      "     Amarillo 9\n",
      "     Magenta 7\n",
      "     Azul 9\n",
      "Turno:  2\n",
      "Ronda del jugador:  Negro\n",
      "Ronda del jugador:  Rojo\n",
      "Ronda del jugador:  Verde\n",
      "Ronda del jugador:  Amarillo\n",
      "Ronda del jugador:  Magenta\n",
      "Ronda del jugador:  Azul\n",
      "estado actual:\n",
      "     Negro 6\n",
      "     Rojo 12\n",
      "     Verde 10\n",
      "     Amarillo 8\n",
      "     Magenta 6\n",
      "     Azul 8\n",
      "Turno:  3\n",
      "Ronda del jugador:  Negro\n",
      "Ronda del jugador:  Rojo\n",
      "Ronda del jugador:  Verde\n",
      "Ronda del jugador:  Amarillo\n",
      "Ronda del jugador:  Magenta\n",
      "Ronda del jugador:  Azul\n",
      "estado actual:\n",
      "     Negro 6\n",
      "     Rojo 12\n",
      "     Verde 11\n",
      "     Amarillo 8\n",
      "     Magenta 6\n",
      "     Azul 7\n",
      "Turno:  4\n",
      "Ronda del jugador:  Negro\n",
      "Ronda del jugador:  Rojo\n",
      "Ronda del jugador:  Verde\n",
      "Ronda del jugador:  Amarillo\n",
      "Ronda del jugador:  Magenta\n",
      "Ronda del jugador:  Azul\n",
      "estado actual:\n",
      "     Negro 8\n",
      "     Rojo 12\n",
      "     Verde 10\n",
      "     Amarillo 7\n",
      "     Magenta 6\n",
      "     Azul 7\n",
      "Turno:  5\n",
      "Ronda del jugador:  Negro\n",
      "Ronda del jugador:  Rojo\n",
      "Ronda del jugador:  Verde\n",
      "Ronda del jugador:  Amarillo\n",
      "Ronda del jugador:  Magenta\n",
      "Ronda del jugador:  Azul\n",
      "estado actual:\n",
      "     Negro 8\n",
      "     Rojo 14\n",
      "     Verde 9\n",
      "     Amarillo 7\n",
      "     Magenta 6\n",
      "     Azul 6\n",
      "Turno:  6\n",
      "Ronda del jugador:  Negro\n",
      "Ronda del jugador:  Rojo\n",
      "Ronda del jugador:  Verde\n",
      "Ronda del jugador:  Amarillo\n",
      "Ronda del jugador:  Magenta\n",
      "Ronda del jugador:  Azul\n",
      "estado actual:\n",
      "     Negro 10\n",
      "     Rojo 14\n",
      "     Verde 9\n",
      "     Amarillo 5\n",
      "     Magenta 7\n",
      "     Azul 5\n",
      "Turno:  7\n",
      "Ronda del jugador:  Negro\n",
      "Ronda del jugador:  Rojo\n",
      "Ronda del jugador:  Verde\n",
      "Ronda del jugador:  Amarillo\n",
      "Ronda del jugador:  Magenta\n",
      "Ronda del jugador:  Azul\n",
      "estado actual:\n",
      "     Negro 8\n",
      "     Rojo 16\n",
      "     Verde 11\n",
      "     Amarillo 4\n",
      "     Magenta 6\n",
      "     Azul 5\n",
      "Turno:  8\n",
      "Ronda del jugador:  Negro\n",
      "Ronda del jugador:  Rojo\n",
      "Ronda del jugador:  Verde\n",
      "Ronda del jugador:  Amarillo\n",
      "Ronda del jugador:  Magenta\n",
      "Ronda del jugador:  Azul\n",
      "estado actual:\n",
      "     Negro 5\n",
      "     Rojo 19\n",
      "     Verde 11\n",
      "     Amarillo 3\n",
      "     Magenta 6\n",
      "     Azul 6\n",
      "Turno:  9\n",
      "Ronda del jugador:  Negro\n",
      "Ronda del jugador:  Rojo\n",
      "Ronda del jugador:  Verde\n",
      "Ronda del jugador:  Amarillo\n",
      "Ronda del jugador:  Magenta\n",
      "Ronda del jugador:  Azul\n",
      "estado actual:\n",
      "     Negro 3\n",
      "     Rojo 20\n",
      "     Verde 11\n",
      "     Amarillo 4\n",
      "     Magenta 6\n",
      "     Azul 6\n",
      "Turno:  10\n",
      "Ronda del jugador:  Negro\n",
      "Ronda del jugador:  Rojo\n",
      "Ronda del jugador:  Verde\n",
      "Ronda del jugador:  Amarillo\n",
      "Ronda del jugador:  Magenta\n",
      "Ronda del jugador:  Azul\n",
      "estado actual:\n",
      "     Negro 2\n",
      "     Rojo 24\n",
      "     Verde 9\n",
      "     Amarillo 3\n",
      "     Magenta 6\n",
      "     Azul 6\n",
      "Turno:  11\n",
      "Ronda del jugador:  Negro\n",
      "Ronda del jugador:  Rojo\n",
      "jugador:  Rojo  es el ganador.\n",
      "Fin del juego\n"
     ]
    }
   ],
   "source": [
    "print(listado_de_propietarios)\n",
    "estadisticas = {}\n",
    "paises_iniciales = {}\n",
    "for jugador in listado_de_propietarios:\n",
    "    estadisticas[jugador] = []\n",
    "    estadisticas[jugador].append(len(paises_que_pertenecen_al_jugador(jugador, mundo_TEG)))\n",
    "    paises_iniciales[jugador] = paises_que_pertenecen_al_jugador(jugador, mundo_TEG)\n",
    "turnofinal = partida_de_TEG(listado_de_propietarios, mundo_TEG, estadisticas)"
   ],
   "metadata": {
    "collapsed": false,
    "pycharm": {
     "name": "#%%\n"
    }
   }
  },
  {
   "cell_type": "code",
   "execution_count": 151,
   "outputs": [
    {
     "name": "stdout",
     "output_type": "stream",
     "text": [
      "11\n"
     ]
    }
   ],
   "source": [
    "print(turnofinal)"
   ],
   "metadata": {
    "collapsed": false,
    "pycharm": {
     "name": "#%%\n"
    }
   }
  },
  {
   "cell_type": "code",
   "execution_count": 152,
   "outputs": [
    {
     "data": {
      "text/plain": "{'Negro': [8, 7, 6, 6, 8, 8, 10, 8, 5, 3, 2],\n 'Rojo': [8, 10, 12, 12, 12, 14, 14, 16, 19, 20, 24],\n 'Verde': [9, 8, 10, 11, 10, 9, 9, 11, 11, 11, 9],\n 'Amarillo': [8, 9, 8, 8, 7, 7, 5, 4, 3, 4, 3],\n 'Magenta': [8, 7, 6, 6, 6, 6, 7, 6, 6, 6, 6],\n 'Azul': [9, 9, 8, 7, 7, 6, 5, 5, 6, 6, 6]}"
     },
     "execution_count": 152,
     "metadata": {},
     "output_type": "execute_result"
    }
   ],
   "source": [
    "estadisticas"
   ],
   "metadata": {
    "collapsed": false,
    "pycharm": {
     "name": "#%%\n"
    }
   }
  },
  {
   "cell_type": "code",
   "execution_count": 153,
   "outputs": [
    {
     "data": {
      "text/plain": "{'Negro': ['Yukon',\n  'Oregon',\n  'Mexico',\n  'Spain',\n  'Sweden',\n  'Aral Kazakhstan|Aral',\n  'Tartary',\n  'Argentina'],\n 'Rojo': ['New York (state)|New York',\n  'Russia',\n  'India',\n  'Taymyr Autonomous Okrug|Taymyr',\n  'Kamchatka',\n  'Siberia',\n  'Gobi',\n  'Israel'],\n 'Verde': ['Canada',\n  'Great Britain',\n  'Iceland',\n  'Poland',\n  'China',\n  'Ethiopia',\n  'Zaire',\n  'South Africa',\n  'Java'],\n 'Amarillo': ['Alaska',\n  'Newfoundland (island)|Terranova',\n  'Labrador',\n  'Germany',\n  'Italy',\n  'Mongolia',\n  'Malaysia',\n  'Turkey'],\n 'Magenta': ['Greenland',\n  'California',\n  'Iran',\n  'Peru',\n  'Colombia',\n  'Chile',\n  'Sahara',\n  'Madagascar'],\n 'Azul': ['France',\n  'Arabia',\n  'Japan',\n  'Brazil',\n  'Uruguay',\n  'Egypt',\n  'Sumatra',\n  'Borneo',\n  'Australia']}"
     },
     "execution_count": 153,
     "metadata": {},
     "output_type": "execute_result"
    }
   ],
   "source": [
    "paises_iniciales"
   ],
   "metadata": {
    "collapsed": false,
    "pycharm": {
     "name": "#%%\n"
    }
   }
  },
  {
   "cell_type": "code",
   "execution_count": 109,
   "outputs": [],
   "source": [
    "paises_del_ganador = []\n",
    "paises_de_los_perdedores = []"
   ],
   "metadata": {
    "collapsed": false,
    "pycharm": {
     "name": "#%%\n"
    }
   }
  },
  {
   "cell_type": "code",
   "execution_count": 155,
   "outputs": [
    {
     "name": "stdout",
     "output_type": "stream",
     "text": [
      "Rojo ['Azul']\n"
     ]
    },
    {
     "data": {
      "text/plain": "['Negro', 'Rojo', 'Verde', 'Amarillo', 'Magenta', 'Azul']"
     },
     "execution_count": 155,
     "metadata": {},
     "output_type": "execute_result"
    }
   ],
   "source": [
    "ganador = listado_de_propietarios[1]\n",
    "perdedores = []\n",
    "perdedores.append(listado_de_propietarios[5])\n",
    "# perdedores.append(listado_de_propietarios[0])\n",
    "print(ganador, perdedores)\n",
    "listado_de_propietarios"
   ],
   "metadata": {
    "collapsed": false,
    "pycharm": {
     "name": "#%%\n"
    }
   }
  },
  {
   "cell_type": "code",
   "execution_count": 156,
   "outputs": [
    {
     "name": "stdout",
     "output_type": "stream",
     "text": [
      "50 59\n"
     ]
    }
   ],
   "source": [
    "paises_del_ganador += paises_iniciales[ganador]\n",
    "# for perdedor in perdedores:\n",
    "#     paises_de_los_perdedores += paises_iniciales[ganador]\n",
    "print(len(paises_del_ganador), len(paises_de_los_perdedores))"
   ],
   "metadata": {
    "collapsed": false,
    "pycharm": {
     "name": "#%%\n"
    }
   }
  },
  {
   "cell_type": "code",
   "execution_count": 107,
   "outputs": [],
   "source": [
    "def graficar_estadisticas_TEG(estadisticas, titulo, log=False):\n",
    "    colores = {'Magenta': 'magenta', 'Verde': 'green', 'Rojo': 'red', 'Negro': 'black', 'Azul': 'blue', 'Amarillo': 'yellow'}\n",
    "    x_maximo = 0\n",
    "    y_maximo = 0\n",
    "    f = plt.figure()\n",
    "    f.set_figwidth(16)\n",
    "    f.set_figheight(8)\n",
    "    for distribucion in estadisticas.keys():\n",
    "        plt.plot(estadisticas[distribucion], label=distribucion, linewidth=2, alpha=0.75, color=colores[distribucion])\n",
    "        maximo_alcanzado = max(estadisticas[distribucion])\n",
    "        if x_maximo == 0:\n",
    "            x_maximo = len(estadisticas[distribucion])\n",
    "        if y_maximo < maximo_alcanzado:\n",
    "            y_maximo = maximo_alcanzado\n",
    "    plt.xlabel(\"Turno completado\")\n",
    "    plt.ylabel(\"Cantidad de paises\")\n",
    "    plt.xticks(np.arange(0, x_maximo, 1))\n",
    "    plt.yticks(np.arange(0, y_maximo+1, 1))\n",
    "    plt.margins(x=0, y=0)\n",
    "    if log:\n",
    "        plt.xscale(\"log\")\n",
    "        plt.yscale(\"log\")\n",
    "    plt.grid(color='r', linestyle='-', linewidth=1, alpha=0.05)\n",
    "    plt.title(titulo)\n",
    "    plt.legend()\n",
    "    plt.show()"
   ],
   "metadata": {
    "collapsed": false,
    "pycharm": {
     "name": "#%%\n"
    }
   }
  },
  {
   "cell_type": "code",
   "execution_count": 154,
   "outputs": [
    {
     "data": {
      "text/plain": "<Figure size 1152x576 with 1 Axes>",
      "image/png": "[encoded data removed]"
     },
     "metadata": {
      "needs_background": "light"
     },
     "output_type": "display_data"
    }
   ],
   "source": [
    "graficar_estadisticas_TEG(estadisticas, \"mapa TEG\")"
   ],
   "metadata": {
    "collapsed": false,
    "pycharm": {
     "name": "#%%\n"
    }
   }
  },
  {
   "cell_type": "code",
   "execution_count": 149,
   "outputs": [
    {
     "data": {
      "text/plain": "89"
     },
     "execution_count": 149,
     "metadata": {},
     "output_type": "execute_result"
    }
   ],
   "source": [
    "#reiniciar tablero\n",
    "listado_de_propietarios = Propietario.obtener_orden_de_turnos_de_jugadores()\n",
    "listado_de_orden_de_paises_TEG = Propietario.obtener_orden_de_propietarios()\n",
    "mundo_TEG = nx.Graph()\n",
    "for fila_de_datos in paises_TEG.iterrows():\n",
    "    propietario_actual = listado_de_orden_de_paises_TEG[mundo_TEG.number_of_nodes()]\n",
    "    mundo_TEG.add_node(fila_de_datos[1]['Pais'], continente=fila_de_datos[1]['Continente'],\n",
    "                       categoria=fila_de_datos[1]['Categoria'],\n",
    "                       propietario=Propietario.Propietario_TEG(propietario_actual))\n",
    "for fila in fronteras_TEG.iterrows():\n",
    "    territorio1 = fila[1]['Pais']\n",
    "    territorio2 = fila[1]['frontera']\n",
    "    tipo = fila[1]['tipo']\n",
    "    mundo_TEG.add_edge(territorio1, territorio2, tipo=tipo)\n",
    "mundo_TEG.number_of_edges()"
   ],
   "metadata": {
    "collapsed": false,
    "pycharm": {
     "name": "#%%\n"
    }
   }
  },
  {
   "cell_type": "code",
   "execution_count": 167,
   "outputs": [
    {
     "name": "stdout",
     "output_type": "stream",
     "text": [
      "prededores\n",
      "\\begin{center}\n",
      "\\begin{tabular}{| c | c |}\n",
      "\\hline\n",
      "\tpais & cantidad\\\\ \\hline\n",
      "\t Russia  &  4 \\\\\n",
      "\t Arabia  &  4 \\\\\n",
      "\t India  &  5 \\\\\n",
      "\t Iran  &  4 \\\\\n",
      "\t France  &  4 \\\\\n",
      "\t Gobi  &  4 \\\\\n",
      "\t Japan  &  3 \\\\\n",
      "\\hline\n",
      "\\end{tabular}\n",
      "\\end{center}\n",
      "Maximo =  5\n",
      "ganadores\n",
      "\\begin{center}\n",
      "\\begin{tabular}{| c | c |}\n",
      "\\hline\n",
      "\tpais & cantidad\\\\ \\hline\n",
      "\t Gobi  &  3 \\\\\n",
      "\t India  &  4 \\\\\n",
      "\t Russia  &  3 \\\\\n",
      "\\hline\n",
      "\\end{tabular}\n",
      "\\end{center}\n",
      "Maximo =  4\n"
     ]
    }
   ],
   "source": [
    "def paises_cantidades(lista_de_paises, mas_de, titulo):\n",
    "    paises = {}\n",
    "    for pais in lista_de_paises:\n",
    "        if pais in paises.keys():\n",
    "            paises[pais] += 1\n",
    "        else:\n",
    "            paises[pais] = 1\n",
    "    maximo = 0\n",
    "    print(titulo)\n",
    "    print(\"\\\\begin{center}\")\n",
    "    print(\"\\\\begin{tabular}{| c | c |}\")\n",
    "    print(\"\\\\hline\")\n",
    "    print(\"\\tpais & cantidad\\\\\\\\ \\\\hline\")\n",
    "    for pais in paises.keys():\n",
    "        if mas_de > paises[pais]:\n",
    "            continue\n",
    "        print(\"\\t\", pais, \" & \", paises[pais], \"\\\\\\\\\")\n",
    "        if maximo < paises[pais]:\n",
    "            maximo = paises[pais]\n",
    "    print(\"\\\\hline\")\n",
    "    print(\"\\\\end{tabular}\")\n",
    "    print(\"\\\\end{center}\")\n",
    "    print(\"Maximo = \", maximo)\n",
    "\n",
    "paises_cantidades(paises_de_los_perdedores, 3, \"prededores\")\n",
    "paises_cantidades(paises_del_ganador, 3, \"ganadores\")"
   ],
   "metadata": {
    "collapsed": false,
    "pycharm": {
     "name": "#%%\n"
    }
   }
  },
  {
   "cell_type": "markdown",
   "source": [
    "## Motif"
   ],
   "metadata": {
    "collapsed": false
   }
  },
  {
   "cell_type": "code",
   "execution_count": 14,
   "outputs": [
    {
     "data": {
      "text/plain": "66"
     },
     "execution_count": 14,
     "metadata": {},
     "output_type": "execute_result"
    }
   ],
   "source": [
    "mundo_TEG_terrestre = nx.Graph()\n",
    "\n",
    "for fila_de_datos in paises_TEG.iterrows():\n",
    "    mundo_TEG_terrestre.add_node(fila_de_datos[1]['Pais'], continente=fila_de_datos[1]['Continente'],\n",
    "                       categoria=fila_de_datos[1]['Categoria'])\n",
    "for fila in fronteras_TEG.iterrows():\n",
    "    if fila[1]['tipo'] != 'terrestre':\n",
    "        continue\n",
    "    territorio1 = fila[1]['Pais']\n",
    "    territorio2 = fila[1]['frontera']\n",
    "    mundo_TEG_terrestre.add_edge(territorio1, territorio2)\n",
    "mundo_TEG_terrestre.number_of_edges()"
   ],
   "metadata": {
    "collapsed": false,
    "pycharm": {
     "name": "#%%\n"
    }
   }
  },
  {
   "cell_type": "code",
   "execution_count": 20,
   "outputs": [],
   "source": [
    "# import time\n",
    "# import numpy as np\n",
    "# from social_networks_utils_main import logger\n",
    "# LOG = logger.Logger(logger.LogLevel.INFO)\n",
    "#\n",
    "# def motif_grafo_eleatorios_b(grafo,n_motifs, iters=100):\n",
    "#     \"\"\"\n",
    "#     :return: los promedios y desvios estándar de cada motif\n",
    "#     \"\"\"\n",
    "#     conteos = []\n",
    "#     t = time.time()\n",
    "#     for i in range(iters):\n",
    "#         LOG.info(\"Iteracion {}\".format(i + 1) + ((\"; anterior: {:.2f} segs\".format(time.time() - t)) if i > 0 else \"\"))\n",
    "#         t = time.time()\n",
    "#         g = modelos.configuration_model(metricas.distribucion_grados(grafo))\n",
    "#         LOG.debug(\"Grafo generado, vamos por motifs\")\n",
    "#         conteos.append(calculos.calcular_motifs(g, n_motifs))\n",
    "#         LOG.debug(conteos[-1])\n",
    "#\n",
    "#     valores = np.array(conteos)\n",
    "#     promedios = np.mean(valores, axis=0)\n",
    "#     stds = np.std(valores, axis=0)\n",
    "#     return promedios, stds"
   ],
   "metadata": {
    "collapsed": false,
    "pycharm": {
     "name": "#%%\n"
    }
   }
  },
  {
   "cell_type": "code",
   "execution_count": 25,
   "outputs": [],
   "source": [
    "def signa_profile(grafo, n_motif=5, iteraciones=10):\n",
    "    motif = calculos.calcular_motifs(grafo, n_motif)\n",
    "    #print(motif)# debido a lo mucho que pueda demorar es conveniente guardar los datos\n",
    "    promedio_motif,desvio_motif = motif_grafo_eleatorios_b(grafo, n_motif, iteraciones)\n",
    "    signa_profile = calculos.significance_profile(motif, promedio_motif, desvio_motif)\n",
    "    return signa_profile"
   ],
   "metadata": {
    "collapsed": false,
    "pycharm": {
     "name": "#%%\n"
    }
   }
  },
  {
   "cell_type": "code",
   "execution_count": 26,
   "outputs": [
    {
     "name": "stdout",
     "output_type": "stream",
     "text": [
      "Inicio comparaciones\n",
      "Iteracion 1\n",
      "Iteracion 2; anterior: 79.63 segs\n",
      "Iteracion 3; anterior: 75.76 segs\n",
      "Iteracion 4; anterior: 76.76 segs\n",
      "Iteracion 5; anterior: 78.38 segs\n",
      "Iteracion 6; anterior: 78.67 segs\n",
      "Iteracion 7; anterior: 78.10 segs\n",
      "Iteracion 8; anterior: 80.25 segs\n",
      "Iteracion 9; anterior: 80.07 segs\n",
      "Iteracion 10; anterior: 79.48 segs\n",
      "Fin comparaciones\n",
      "Inicio comparaciones\n",
      "Iteracion 1\n",
      "Iteracion 2; anterior: 78.69 segs\n",
      "Iteracion 3; anterior: 79.30 segs\n",
      "Iteracion 4; anterior: 78.68 segs\n",
      "Iteracion 5; anterior: 78.62 segs\n",
      "Iteracion 6; anterior: 77.58 segs\n",
      "Iteracion 7; anterior: 78.24 segs\n",
      "Iteracion 8; anterior: 78.26 segs\n",
      "Iteracion 9; anterior: 78.16 segs\n",
      "Iteracion 10; anterior: 78.85 segs\n",
      "Fin comparaciones\n",
      "Inicio comparaciones\n",
      "Iteracion 1\n",
      "Iteracion 2; anterior: 256.56 segs\n",
      "Iteracion 3; anterior: 259.74 segs\n",
      "Iteracion 4; anterior: 263.51 segs\n",
      "Iteracion 5; anterior: 265.88 segs\n",
      "Iteracion 6; anterior: 259.70 segs\n",
      "Iteracion 7; anterior: 259.41 segs\n",
      "Iteracion 8; anterior: 257.83 segs\n",
      "Iteracion 9; anterior: 277.78 segs\n",
      "Iteracion 10; anterior: 259.01 segs\n",
      "Fin comparaciones\n"
     ]
    },
    {
     "data": {
      "text/plain": "<Figure size 432x288 with 1 Axes>",
      "image/png": "[encoded data removed]"
     },
     "metadata": {
      "needs_background": "light"
     },
     "output_type": "display_data"
    }
   ],
   "source": [
    "comparaciones = [[mundo_TEG, mundo_TEG_terrestre, mundo_real], [\"mapa TEG\", \"mapa TEG (solo fronteras terrestres)\", \"Fronteras terrestres reales\"], []]\n",
    "for mapa in comparaciones[0]:\n",
    "    print(\"Inicio comparaciones\")\n",
    "    comparaciones[2].append(signa_profile(mapa))\n",
    "    print(\"Fin comparaciones\")\n",
    "graficos.graficar_significant_profiles_conjuntos(comparaciones[2], comparaciones[1], \"Comparacion\")"
   ],
   "metadata": {
    "collapsed": false,
    "pycharm": {
     "name": "#%%\n"
    }
   }
  },
  {
   "cell_type": "code",
   "execution_count": 35,
   "outputs": [
    {
     "data": {
      "text/plain": "<Figure size 432x288 with 1 Axes>",
      "image/png": "[encoded data removed]"
     },
     "metadata": {
      "needs_background": "light"
     },
     "output_type": "display_data"
    },
    {
     "data": {
      "text/plain": "<Figure size 432x288 with 1 Axes>",
      "image/png": "[encoded data removed]"
     },
     "metadata": {
      "needs_background": "light"
     },
     "output_type": "display_data"
    },
    {
     "data": {
      "text/plain": "<Figure size 432x288 with 1 Axes>",
      "image/png": "[encoded data removed]"
     },
     "metadata": {
      "needs_background": "light"
     },
     "output_type": "display_data"
    }
   ],
   "source": [
    "def graficar_individual_motif():\n",
    "    for sig_prof in range(len(comparaciones[2])):\n",
    "        graficos.graficar_significant_profile(comparaciones[2][sig_prof], comparaciones[1][sig_prof])\n",
    "graficar_individual_motif()"
   ],
   "metadata": {
    "collapsed": false,
    "pycharm": {
     "name": "#%%\n"
    }
   }
  }
 ],
 "metadata": {
  "kernelspec": {
   "display_name": "Python 3",
   "language": "python",
   "name": "python3"
  },
  "language_info": {
   "codemirror_mode": {
    "name": "ipython",
    "version": 2
   },
   "file_extension": ".py",
   "mimetype": "text/x-python",
   "name": "python",
   "nbconvert_exporter": "python",
   "pygments_lexer": "ipython2",
   "version": "2.7.6"
  }
 },
 "nbformat": 4,
 "nbformat_minor": 0
}