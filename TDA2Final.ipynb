{
 "cells": [
  {
   "cell_type": "markdown",
   "source": [
    "# TP Final TDA2"
   ],
   "metadata": {
    "collapsed": false
   }
  },
  {
   "cell_type": "markdown",
   "source": [
    "## Importaciones"
   ],
   "metadata": {
    "collapsed": false
   }
  },
  {
   "cell_type": "code",
   "execution_count": null,
   "metadata": {
    "collapsed": true
   },
   "outputs": [],
   "source": [
    "import pandas as pd\n",
    "import networkx as nx\n",
    "import numpy as np\n",
    "import random\n",
    "\n",
    "from social_networks_utils_main import embeddings\n",
    "from social_networks_utils_main import modelos\n",
    "from social_networks_utils_main import metricas\n",
    "from social_networks_utils_main.motifs import calculos\n",
    "from social_networks_utils_main.motifs import graficos\n",
    "from social_networks_utils_main.motifs import load\n",
    "from social_networks_utils_main import homofilia"
   ]
  },
  {
   "cell_type": "markdown",
   "source": [
    "para ejecutar graphrole\n",
    "pip install graphrole\n",
    "ejecutar en python 3.9"
   ],
   "metadata": {
    "collapsed": false
   }
  },
  {
   "cell_type": "code",
   "execution_count": null,
   "outputs": [],
   "source": [
    "from graphrole import RecursiveFeatureExtractor, RoleExtractor"
   ],
   "metadata": {
    "collapsed": false,
    "pycharm": {
     "name": "#%%\n"
    }
   }
  },
  {
   "cell_type": "markdown",
   "source": [
    "falla en grafo aleatorio"
   ],
   "metadata": {
    "collapsed": false
   }
  },
  {
   "cell_type": "code",
   "execution_count": null,
   "outputs": [],
   "source": [
    "import time\n",
    "from social_networks_utils_main import logger\n",
    "LOG = logger.Logger(logger.LogLevel.INFO)\n",
    "\n",
    "def motif_grafo_eleatorios_b(grafo,n_motifs, iters=100):\n",
    "    \"\"\"\n",
    "    La funcion calcula baselines para luego hacer comparaciones de motifs\n",
    "    :param generador_baseline: Una función sin parámetros (supplier) que devuelve un modelo\n",
    "    aleatorizado (ver el módulo modelos.py)\n",
    "    :param conjuntos_motifs: Conjuntos de motifs a calcular las metrias. Se debe reibir una\n",
    "    lista de listas: [ [MOTIFS_2_VERTICES], [MOTIFS_3_VERTICES], ... ], dado que el calculo\n",
    "    para cada motif se hace en funcion de la cantidad de nodos, como indica en #calcular_motifs_en_paralelo\n",
    "    :param iters: cantidad de iteraciones a realizar\n",
    "    :return: los promedios y desvios estándar de cada motif\n",
    "    \"\"\"\n",
    "    conteos = []\n",
    "    t = time.time()\n",
    "    for i in range(iters):\n",
    "        LOG.info(\"Iteracion {}\".format(i + 1) + ((\"; anterior: {:.2f} segs\".format(time.time() - t)) if i > 0 else \"\"))\n",
    "        t = time.time()\n",
    "        g = modelos.configuration_model(metricas.distribucion_grados(grafo))\n",
    "        LOG.debug(\"Grafo generado, vamos por motifs\")\n",
    "        conteos.append(calculos.calcular_motifs(g, n_motifs))\n",
    "        LOG.debug(conteos[-1])\n",
    "\n",
    "    valores = np.array(conteos)\n",
    "    promedios = np.mean(valores, axis=0)\n",
    "    stds = np.std(valores, axis=0)\n",
    "    return promedios, stds"
   ],
   "metadata": {
    "collapsed": false,
    "pycharm": {
     "name": "#%%\n"
    }
   }
  }
 ],
 "metadata": {
  "kernelspec": {
   "display_name": "Python 3",
   "language": "python",
   "name": "python3"
  },
  "language_info": {
   "codemirror_mode": {
    "name": "ipython",
    "version": 2
   },
   "file_extension": ".py",
   "mimetype": "text/x-python",
   "name": "python",
   "nbconvert_exporter": "python",
   "pygments_lexer": "ipython2",
   "version": "2.7.6"
  }
 },
 "nbformat": 4,
 "nbformat_minor": 0
}