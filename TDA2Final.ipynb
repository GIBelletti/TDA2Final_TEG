{
 "cells": [
  {
   "cell_type": "markdown",
   "source": [
    "# TP Final TDA2"
   ],
   "metadata": {
    "collapsed": false
   }
  },
  {
   "cell_type": "markdown",
   "source": [
    "## Importaciones"
   ],
   "metadata": {
    "collapsed": false
   }
  },
  {
   "cell_type": "code",
   "execution_count": 62,
   "metadata": {
    "collapsed": true
   },
   "outputs": [],
   "source": [
    "import pandas as pd\n",
    "import networkx as nx\n",
    "import numpy as np\n",
    "import random\n",
    "import matplotlib.pyplot as plt\n",
    "\n",
    "from social_networks_utils_main import embeddings\n",
    "from social_networks_utils_main import modelos\n",
    "from social_networks_utils_main import metricas\n",
    "from social_networks_utils_main.motifs import calculos\n",
    "from social_networks_utils_main.motifs import graficos\n",
    "from social_networks_utils_main.motifs import load\n",
    "from social_networks_utils_main import homofilia"
   ]
  },
  {
   "cell_type": "markdown",
   "source": [
    "para ejecutar graphrole\n",
    "pip install graphrole\n",
    "ejecutar en python 3.9"
   ],
   "metadata": {
    "collapsed": false
   }
  },
  {
   "cell_type": "code",
   "execution_count": 2,
   "outputs": [],
   "source": [
    "from graphrole import RecursiveFeatureExtractor, RoleExtractor"
   ],
   "metadata": {
    "collapsed": false,
    "pycharm": {
     "name": "#%%\n"
    }
   }
  },
  {
   "cell_type": "markdown",
   "source": [
    "falla en grafo aleatorio"
   ],
   "metadata": {
    "collapsed": false
   }
  },
  {
   "cell_type": "code",
   "execution_count": 3,
   "outputs": [],
   "source": [
    "import time\n",
    "from social_networks_utils_main import logger\n",
    "LOG = logger.Logger(logger.LogLevel.INFO)\n",
    "\n",
    "def motif_grafo_eleatorios_b(grafo,n_motifs, iters=100):\n",
    "    \"\"\"\n",
    "    La funcion calcula baselines para luego hacer comparaciones de motifs\n",
    "    :param generador_baseline: Una función sin parámetros (supplier) que devuelve un modelo\n",
    "    aleatorizado (ver el módulo modelos.py)\n",
    "    :param conjuntos_motifs: Conjuntos de motifs a calcular las metrias. Se debe reibir una\n",
    "    lista de listas: [ [MOTIFS_2_VERTICES], [MOTIFS_3_VERTICES], ... ], dado que el calculo\n",
    "    para cada motif se hace en funcion de la cantidad de nodos, como indica en #calcular_motifs_en_paralelo\n",
    "    :param iters: cantidad de iteraciones a realizar\n",
    "    :return: los promedios y desvios estándar de cada motif\n",
    "    \"\"\"\n",
    "    conteos = []\n",
    "    t = time.time()\n",
    "    for i in range(iters):\n",
    "        LOG.info(\"Iteracion {}\".format(i + 1) + ((\"; anterior: {:.2f} segs\".format(time.time() - t)) if i > 0 else \"\"))\n",
    "        t = time.time()\n",
    "        g = modelos.configuration_model(metricas.distribucion_grados(grafo))\n",
    "        LOG.debug(\"Grafo generado, vamos por motifs\")\n",
    "        conteos.append(calculos.calcular_motifs(g, n_motifs))\n",
    "        LOG.debug(conteos[-1])\n",
    "\n",
    "    valores = np.array(conteos)\n",
    "    promedios = np.mean(valores, axis=0)\n",
    "    stds = np.std(valores, axis=0)\n",
    "    return promedios, stds"
   ],
   "metadata": {
    "collapsed": false,
    "pycharm": {
     "name": "#%%\n"
    }
   }
  },
  {
   "cell_type": "markdown",
   "source": [
    "## Dataset"
   ],
   "metadata": {
    "collapsed": false
   }
  },
  {
   "cell_type": "code",
   "execution_count": 4,
   "outputs": [
    {
     "data": {
      "text/plain": "    País o territorio(Territorios sin soberanía plena en cursiva)  \\\n0                                                China              \n1                                                China              \n2                                                China              \n3                                                China              \n4                                                China              \n..                                                 ...              \n636                                          Dinamarca              \n637                                              Catar              \n638                                         San Marino              \n639                                             Mónaco              \n640                                Ciudad del Vaticano              \n\n    Países o territorios vecinos(Territorios sin soberanía plena en cursiva)  \n0                                           Afganistán                        \n1                                                Bután                        \n2                                             Birmania                        \n3                                      Corea del Norte                        \n4                                                India                        \n..                                                 ...                        \n636                                           Alemania                        \n637                                     Arabia Saudita                        \n638                                             Italia                        \n639                                            Francia                        \n640                                             Italia                        \n\n[641 rows x 2 columns]",
      "text/html": "<div>\n<style scoped>\n    .dataframe tbody tr th:only-of-type {\n        vertical-align: middle;\n    }\n\n    .dataframe tbody tr th {\n        vertical-align: top;\n    }\n\n    .dataframe thead th {\n        text-align: right;\n    }\n</style>\n<table border=\"1\" class=\"dataframe\">\n  <thead>\n    <tr style=\"text-align: right;\">\n      <th></th>\n      <th>País o territorio(Territorios sin soberanía plena en cursiva)</th>\n      <th>Países o territorios vecinos(Territorios sin soberanía plena en cursiva)</th>\n    </tr>\n  </thead>\n  <tbody>\n    <tr>\n      <th>0</th>\n      <td>China</td>\n      <td>Afganistán</td>\n    </tr>\n    <tr>\n      <th>1</th>\n      <td>China</td>\n      <td>Bután</td>\n    </tr>\n    <tr>\n      <th>2</th>\n      <td>China</td>\n      <td>Birmania</td>\n    </tr>\n    <tr>\n      <th>3</th>\n      <td>China</td>\n      <td>Corea del Norte</td>\n    </tr>\n    <tr>\n      <th>4</th>\n      <td>China</td>\n      <td>India</td>\n    </tr>\n    <tr>\n      <th>...</th>\n      <td>...</td>\n      <td>...</td>\n    </tr>\n    <tr>\n      <th>636</th>\n      <td>Dinamarca</td>\n      <td>Alemania</td>\n    </tr>\n    <tr>\n      <th>637</th>\n      <td>Catar</td>\n      <td>Arabia Saudita</td>\n    </tr>\n    <tr>\n      <th>638</th>\n      <td>San Marino</td>\n      <td>Italia</td>\n    </tr>\n    <tr>\n      <th>639</th>\n      <td>Mónaco</td>\n      <td>Francia</td>\n    </tr>\n    <tr>\n      <th>640</th>\n      <td>Ciudad del Vaticano</td>\n      <td>Italia</td>\n    </tr>\n  </tbody>\n</table>\n<p>641 rows × 2 columns</p>\n</div>"
     },
     "execution_count": 4,
     "metadata": {},
     "output_type": "execute_result"
    }
   ],
   "source": [
    "fronteras_reales = pd.read_csv('fronteras_terrestres_del_mundo.csv')\n",
    "fronteras_reales"
   ],
   "metadata": {
    "collapsed": false,
    "pycharm": {
     "name": "#%%\n"
    }
   }
  },
  {
   "cell_type": "code",
   "execution_count": 5,
   "outputs": [
    {
     "data": {
      "text/plain": "          Pais                         frontera       tipo\n0       Canada  Newfoundland (island)|Terranova  terrestre\n1       Canada        New York (state)|New York  terrestre\n2       Canada                           Oregon  terrestre\n3       Canada                            Yukon  terrestre\n4        Yukon                           Alaska  terrestre\n..         ...                              ...        ...\n84  Madagascar                            Zaire     marina\n85       Zaire                     South Africa  terrestre\n86     Sumatra                        Australia     marina\n87      Borneo                        Australia     marina\n88        Java                        Australia     marina\n\n[89 rows x 3 columns]",
      "text/html": "<div>\n<style scoped>\n    .dataframe tbody tr th:only-of-type {\n        vertical-align: middle;\n    }\n\n    .dataframe tbody tr th {\n        vertical-align: top;\n    }\n\n    .dataframe thead th {\n        text-align: right;\n    }\n</style>\n<table border=\"1\" class=\"dataframe\">\n  <thead>\n    <tr style=\"text-align: right;\">\n      <th></th>\n      <th>Pais</th>\n      <th>frontera</th>\n      <th>tipo</th>\n    </tr>\n  </thead>\n  <tbody>\n    <tr>\n      <th>0</th>\n      <td>Canada</td>\n      <td>Newfoundland (island)|Terranova</td>\n      <td>terrestre</td>\n    </tr>\n    <tr>\n      <th>1</th>\n      <td>Canada</td>\n      <td>New York (state)|New York</td>\n      <td>terrestre</td>\n    </tr>\n    <tr>\n      <th>2</th>\n      <td>Canada</td>\n      <td>Oregon</td>\n      <td>terrestre</td>\n    </tr>\n    <tr>\n      <th>3</th>\n      <td>Canada</td>\n      <td>Yukon</td>\n      <td>terrestre</td>\n    </tr>\n    <tr>\n      <th>4</th>\n      <td>Yukon</td>\n      <td>Alaska</td>\n      <td>terrestre</td>\n    </tr>\n    <tr>\n      <th>...</th>\n      <td>...</td>\n      <td>...</td>\n      <td>...</td>\n    </tr>\n    <tr>\n      <th>84</th>\n      <td>Madagascar</td>\n      <td>Zaire</td>\n      <td>marina</td>\n    </tr>\n    <tr>\n      <th>85</th>\n      <td>Zaire</td>\n      <td>South Africa</td>\n      <td>terrestre</td>\n    </tr>\n    <tr>\n      <th>86</th>\n      <td>Sumatra</td>\n      <td>Australia</td>\n      <td>marina</td>\n    </tr>\n    <tr>\n      <th>87</th>\n      <td>Borneo</td>\n      <td>Australia</td>\n      <td>marina</td>\n    </tr>\n    <tr>\n      <th>88</th>\n      <td>Java</td>\n      <td>Australia</td>\n      <td>marina</td>\n    </tr>\n  </tbody>\n</table>\n<p>89 rows × 3 columns</p>\n</div>"
     },
     "execution_count": 5,
     "metadata": {},
     "output_type": "execute_result"
    }
   ],
   "source": [
    "fronteras_TEG = pd.read_csv('paisesFronteraTeg.csv')\n",
    "fronteras_TEG"
   ],
   "metadata": {
    "collapsed": false,
    "pycharm": {
     "name": "#%%\n"
    }
   }
  },
  {
   "cell_type": "code",
   "execution_count": 6,
   "outputs": [
    {
     "data": {
      "text/plain": "                               Pais     Continente Categoria\n0                            Canada  North America     canon\n1                             Yukon  North America     globo\n2                            Alaska  North America     barco\n3                         Greenland  North America     globo\n4                            Oregon  North America     canon\n5                        California  North America     canon\n6                            Mexico  North America     canon\n7         New York (state)|New York  North America     barco\n8   Newfoundland (island)|Terranova  North America     canon\n9                          Labrador  North America     canon\n10                    Great Britain         Europe     barco\n11                          Iceland         Europe     barco\n12                            Spain         Europe     globo\n13                           France         Europe     globo\n14                          Germany         Europe     barco\n15                            Italy         Europe     globo\n16                           Poland         Europe     canon\n17                           Russia         Europe     globo\n18                           Sweden         Europe     barco\n19                           Arabia           Asia     canon\n20             Aral Kazakhstan|Aral           Asia     canon\n21                            China           Asia     barco\n22                            India           Asia     globo\n23                             Iran           Asia     globo\n24                          Tartary           Asia     canon\n25   Taymyr Autonomous Okrug|Taymyr           Asia   comodin\n26                            Japan           Asia     canon\n27                        Kamchatka           Asia     globo\n28                          Siberia           Asia     barco\n29                         Mongolia           Asia     barco\n30                             Gobi           Asia     globo\n31                         Malaysia           Asia     canon\n32                           Turkey           Asia     barco\n33                           Israel           Asia     barco\n34                        Argentina  South America   comodin\n35                           Brazil  South America     barco\n36                             Peru  South America     barco\n37                         Colombia  South America     globo\n38                            Chile  South America     globo\n39                          Uruguay  South America     globo\n40                           Sahara         Africa     canon\n41                         Ethiopia         Africa     globo\n42                            Egypt         Africa     globo\n43                       Madagascar         Africa     barco\n44                            Zaire         Africa     barco\n45                     South Africa         Africa     canon\n46                          Sumatra        Oceania     globo\n47                           Borneo        Oceania     barco\n48                             Java        Oceania     canon\n49                        Australia        Oceania     canon",
      "text/html": "<div>\n<style scoped>\n    .dataframe tbody tr th:only-of-type {\n        vertical-align: middle;\n    }\n\n    .dataframe tbody tr th {\n        vertical-align: top;\n    }\n\n    .dataframe thead th {\n        text-align: right;\n    }\n</style>\n<table border=\"1\" class=\"dataframe\">\n  <thead>\n    <tr style=\"text-align: right;\">\n      <th></th>\n      <th>Pais</th>\n      <th>Continente</th>\n      <th>Categoria</th>\n    </tr>\n  </thead>\n  <tbody>\n    <tr>\n      <th>0</th>\n      <td>Canada</td>\n      <td>North America</td>\n      <td>canon</td>\n    </tr>\n    <tr>\n      <th>1</th>\n      <td>Yukon</td>\n      <td>North America</td>\n      <td>globo</td>\n    </tr>\n    <tr>\n      <th>2</th>\n      <td>Alaska</td>\n      <td>North America</td>\n      <td>barco</td>\n    </tr>\n    <tr>\n      <th>3</th>\n      <td>Greenland</td>\n      <td>North America</td>\n      <td>globo</td>\n    </tr>\n    <tr>\n      <th>4</th>\n      <td>Oregon</td>\n      <td>North America</td>\n      <td>canon</td>\n    </tr>\n    <tr>\n      <th>5</th>\n      <td>California</td>\n      <td>North America</td>\n      <td>canon</td>\n    </tr>\n    <tr>\n      <th>6</th>\n      <td>Mexico</td>\n      <td>North America</td>\n      <td>canon</td>\n    </tr>\n    <tr>\n      <th>7</th>\n      <td>New York (state)|New York</td>\n      <td>North America</td>\n      <td>barco</td>\n    </tr>\n    <tr>\n      <th>8</th>\n      <td>Newfoundland (island)|Terranova</td>\n      <td>North America</td>\n      <td>canon</td>\n    </tr>\n    <tr>\n      <th>9</th>\n      <td>Labrador</td>\n      <td>North America</td>\n      <td>canon</td>\n    </tr>\n    <tr>\n      <th>10</th>\n      <td>Great Britain</td>\n      <td>Europe</td>\n      <td>barco</td>\n    </tr>\n    <tr>\n      <th>11</th>\n      <td>Iceland</td>\n      <td>Europe</td>\n      <td>barco</td>\n    </tr>\n    <tr>\n      <th>12</th>\n      <td>Spain</td>\n      <td>Europe</td>\n      <td>globo</td>\n    </tr>\n    <tr>\n      <th>13</th>\n      <td>France</td>\n      <td>Europe</td>\n      <td>globo</td>\n    </tr>\n    <tr>\n      <th>14</th>\n      <td>Germany</td>\n      <td>Europe</td>\n      <td>barco</td>\n    </tr>\n    <tr>\n      <th>15</th>\n      <td>Italy</td>\n      <td>Europe</td>\n      <td>globo</td>\n    </tr>\n    <tr>\n      <th>16</th>\n      <td>Poland</td>\n      <td>Europe</td>\n      <td>canon</td>\n    </tr>\n    <tr>\n      <th>17</th>\n      <td>Russia</td>\n      <td>Europe</td>\n      <td>globo</td>\n    </tr>\n    <tr>\n      <th>18</th>\n      <td>Sweden</td>\n      <td>Europe</td>\n      <td>barco</td>\n    </tr>\n    <tr>\n      <th>19</th>\n      <td>Arabia</td>\n      <td>Asia</td>\n      <td>canon</td>\n    </tr>\n    <tr>\n      <th>20</th>\n      <td>Aral Kazakhstan|Aral</td>\n      <td>Asia</td>\n      <td>canon</td>\n    </tr>\n    <tr>\n      <th>21</th>\n      <td>China</td>\n      <td>Asia</td>\n      <td>barco</td>\n    </tr>\n    <tr>\n      <th>22</th>\n      <td>India</td>\n      <td>Asia</td>\n      <td>globo</td>\n    </tr>\n    <tr>\n      <th>23</th>\n      <td>Iran</td>\n      <td>Asia</td>\n      <td>globo</td>\n    </tr>\n    <tr>\n      <th>24</th>\n      <td>Tartary</td>\n      <td>Asia</td>\n      <td>canon</td>\n    </tr>\n    <tr>\n      <th>25</th>\n      <td>Taymyr Autonomous Okrug|Taymyr</td>\n      <td>Asia</td>\n      <td>comodin</td>\n    </tr>\n    <tr>\n      <th>26</th>\n      <td>Japan</td>\n      <td>Asia</td>\n      <td>canon</td>\n    </tr>\n    <tr>\n      <th>27</th>\n      <td>Kamchatka</td>\n      <td>Asia</td>\n      <td>globo</td>\n    </tr>\n    <tr>\n      <th>28</th>\n      <td>Siberia</td>\n      <td>Asia</td>\n      <td>barco</td>\n    </tr>\n    <tr>\n      <th>29</th>\n      <td>Mongolia</td>\n      <td>Asia</td>\n      <td>barco</td>\n    </tr>\n    <tr>\n      <th>30</th>\n      <td>Gobi</td>\n      <td>Asia</td>\n      <td>globo</td>\n    </tr>\n    <tr>\n      <th>31</th>\n      <td>Malaysia</td>\n      <td>Asia</td>\n      <td>canon</td>\n    </tr>\n    <tr>\n      <th>32</th>\n      <td>Turkey</td>\n      <td>Asia</td>\n      <td>barco</td>\n    </tr>\n    <tr>\n      <th>33</th>\n      <td>Israel</td>\n      <td>Asia</td>\n      <td>barco</td>\n    </tr>\n    <tr>\n      <th>34</th>\n      <td>Argentina</td>\n      <td>South America</td>\n      <td>comodin</td>\n    </tr>\n    <tr>\n      <th>35</th>\n      <td>Brazil</td>\n      <td>South America</td>\n      <td>barco</td>\n    </tr>\n    <tr>\n      <th>36</th>\n      <td>Peru</td>\n      <td>South America</td>\n      <td>barco</td>\n    </tr>\n    <tr>\n      <th>37</th>\n      <td>Colombia</td>\n      <td>South America</td>\n      <td>globo</td>\n    </tr>\n    <tr>\n      <th>38</th>\n      <td>Chile</td>\n      <td>South America</td>\n      <td>globo</td>\n    </tr>\n    <tr>\n      <th>39</th>\n      <td>Uruguay</td>\n      <td>South America</td>\n      <td>globo</td>\n    </tr>\n    <tr>\n      <th>40</th>\n      <td>Sahara</td>\n      <td>Africa</td>\n      <td>canon</td>\n    </tr>\n    <tr>\n      <th>41</th>\n      <td>Ethiopia</td>\n      <td>Africa</td>\n      <td>globo</td>\n    </tr>\n    <tr>\n      <th>42</th>\n      <td>Egypt</td>\n      <td>Africa</td>\n      <td>globo</td>\n    </tr>\n    <tr>\n      <th>43</th>\n      <td>Madagascar</td>\n      <td>Africa</td>\n      <td>barco</td>\n    </tr>\n    <tr>\n      <th>44</th>\n      <td>Zaire</td>\n      <td>Africa</td>\n      <td>barco</td>\n    </tr>\n    <tr>\n      <th>45</th>\n      <td>South Africa</td>\n      <td>Africa</td>\n      <td>canon</td>\n    </tr>\n    <tr>\n      <th>46</th>\n      <td>Sumatra</td>\n      <td>Oceania</td>\n      <td>globo</td>\n    </tr>\n    <tr>\n      <th>47</th>\n      <td>Borneo</td>\n      <td>Oceania</td>\n      <td>barco</td>\n    </tr>\n    <tr>\n      <th>48</th>\n      <td>Java</td>\n      <td>Oceania</td>\n      <td>canon</td>\n    </tr>\n    <tr>\n      <th>49</th>\n      <td>Australia</td>\n      <td>Oceania</td>\n      <td>canon</td>\n    </tr>\n  </tbody>\n</table>\n</div>"
     },
     "execution_count": 6,
     "metadata": {},
     "output_type": "execute_result"
    }
   ],
   "source": [
    "paises_TEG = pd.read_csv('paisesTEG.csv')\n",
    "paises_TEG"
   ],
   "metadata": {
    "collapsed": false,
    "pycharm": {
     "name": "#%%\n"
    }
   }
  },
  {
   "cell_type": "markdown",
   "source": [
    "## Transcripcion a grafos"
   ],
   "metadata": {
    "collapsed": false
   }
  },
  {
   "cell_type": "markdown",
   "source": [
    "### fronteras reales\n",
    "\n",
    "En el data set de fronteras reales solo se tienen e cuenta las fronteras terrestres."
   ],
   "metadata": {
    "collapsed": false
   }
  },
  {
   "cell_type": "code",
   "execution_count": 7,
   "outputs": [
    {
     "name": "stdout",
     "output_type": "stream",
     "text": [
      "163\n",
      "325\n"
     ]
    }
   ],
   "source": [
    "mundo_real = nx.Graph()\n",
    "for fila in fronteras_reales.iterrows():\n",
    "    territorio1 = fila[1]['País o territorio(Territorios sin soberanía plena en cursiva)']\n",
    "    territorio2 = fila[1]['Países o territorios vecinos(Territorios sin soberanía plena en cursiva)']\n",
    "    if not mundo_real.has_node(territorio1):\n",
    "        mundo_real.add_node(territorio1)\n",
    "    if not mundo_real.has_node(territorio2):\n",
    "        # existen mas territorios en los paises vecinos ya que no todos se repiten\n",
    "        mundo_real.add_node(territorio2)\n",
    "    if mundo_real.has_edge(territorio2, territorio1):\n",
    "        # evita los repetidos\n",
    "        continue\n",
    "    mundo_real.add_edge(territorio1, territorio2)\n",
    "\n",
    "print(mundo_real.number_of_nodes())\n",
    "print(mundo_real.number_of_edges())"
   ],
   "metadata": {
    "collapsed": false,
    "pycharm": {
     "name": "#%%\n"
    }
   }
  },
  {
   "cell_type": "markdown",
   "source": [
    "existen 2 conjuntos conexos"
   ],
   "metadata": {
    "collapsed": false
   }
  },
  {
   "cell_type": "code",
   "execution_count": 38,
   "outputs": [
    {
     "data": {
      "text/plain": "2"
     },
     "execution_count": 38,
     "metadata": {},
     "output_type": "execute_result"
    }
   ],
   "source": [
    "nx.number_connected_components(mundo_real)"
   ],
   "metadata": {
    "collapsed": false,
    "pycharm": {
     "name": "#%%\n"
    }
   }
  },
  {
   "cell_type": "markdown",
   "source": [
    "haciendo una busqueda se encontro que 'Haití' y 'República Dominicana' son los unicos 2 paises que solo estan conectados entre si por lo que se decidio sacarlos"
   ],
   "metadata": {
    "collapsed": false
   }
  },
  {
   "cell_type": "code",
   "execution_count": 39,
   "outputs": [
    {
     "name": "stdout",
     "output_type": "stream",
     "text": [
      "{'Haití', 'República Dominicana'}\n",
      "{'Haití', 'República Dominicana'}\n"
     ]
    }
   ],
   "source": [
    "for i in mundo_real:\n",
    "    h = nx.node_connected_component(mundo_real, i)\n",
    "    if len(h) > 10:#si la componente hubiese sido mas grande se hubiera planteado unificarlas\n",
    "        continue\n",
    "    print(h)"
   ],
   "metadata": {
    "collapsed": false,
    "pycharm": {
     "name": "#%%\n"
    }
   }
  },
  {
   "cell_type": "code",
   "execution_count": 40,
   "outputs": [
    {
     "data": {
      "text/plain": "161"
     },
     "execution_count": 40,
     "metadata": {},
     "output_type": "execute_result"
    }
   ],
   "source": [
    "mundo_real.remove_node('Haití')\n",
    "mundo_real.remove_node('República Dominicana')\n",
    "mundo_real.number_of_nodes()"
   ],
   "metadata": {
    "collapsed": false,
    "pycharm": {
     "name": "#%%\n"
    }
   }
  },
  {
   "cell_type": "markdown",
   "source": [
    "### datos TEG"
   ],
   "metadata": {
    "collapsed": false
   }
  },
  {
   "cell_type": "code",
   "execution_count": 8,
   "outputs": [
    {
     "data": {
      "text/plain": "50"
     },
     "execution_count": 8,
     "metadata": {},
     "output_type": "execute_result"
    }
   ],
   "source": [
    "mundo_TEG = nx.Graph()\n",
    "for fila_de_datos in paises_TEG.iterrows():\n",
    "    mundo_TEG.add_node(fila_de_datos[1]['Pais'], continente=fila_de_datos[1]['Continente'], categoria=fila_de_datos[1]['Categoria'])\n",
    "mundo_TEG.number_of_nodes()"
   ],
   "metadata": {
    "collapsed": false,
    "pycharm": {
     "name": "#%%\n"
    }
   }
  },
  {
   "cell_type": "code",
   "execution_count": 9,
   "outputs": [
    {
     "data": {
      "text/plain": "89"
     },
     "execution_count": 9,
     "metadata": {},
     "output_type": "execute_result"
    }
   ],
   "source": [
    "for fila in fronteras_TEG.iterrows():\n",
    "    territorio1 = fila[1]['Pais']\n",
    "    territorio2 = fila[1]['frontera']\n",
    "    tipo = fila[1]['tipo']\n",
    "    mundo_TEG.add_edge(territorio1, territorio2, tipo=tipo)\n",
    "mundo_TEG.number_of_edges()"
   ],
   "metadata": {
    "collapsed": false,
    "pycharm": {
     "name": "#%%\n"
    }
   }
  },
  {
   "cell_type": "markdown",
   "source": [
    "## Grafos aleatorios"
   ],
   "metadata": {
    "collapsed": false,
    "pycharm": {
     "name": "#%% md\n"
    }
   }
  },
  {
   "cell_type": "code",
   "execution_count": 52,
   "outputs": [],
   "source": [
    "# cantidades que mas se hacemejan al TEG\n",
    "cantidad_de_nodos = 50\n",
    "cantidad_de_aristas = 90\n",
    "\n",
    "def generar_grafo_erdy(alpha = 0.5, rango_de_error = 0.05, iteraciones_max = 20):\n",
    "    for i in range(iteraciones_max):\n",
    "        grafo_erdy = modelos.erdos_renyi(cantidad_de_nodos, cantidad_de_aristas/(alpha * cantidad_de_nodos))\n",
    "        if nx.number_connected_components(grafo_erdy) > 1:\n",
    "            continue\n",
    "        if grafo_erdy.number_of_edges() > cantidad_de_aristas * (1 + rango_de_error):\n",
    "            continue\n",
    "        if grafo_erdy.number_of_edges() < cantidad_de_aristas * (1 - rango_de_error):\n",
    "            continue\n",
    "        return grafo_erdy\n",
    "    print(\"falla al crear grafo\")\n",
    "    return grafo_erdy\n",
    "\n",
    "def generar_grafo_pot(alpha = 1, rango_de_error = 0.05, iteraciones_max = 20):\n",
    "    for i in range(iteraciones_max):\n",
    "        grafo_pot = modelos.preferential_attachment(False, 2, cantidad_de_nodos, cantidad_de_aristas/ (alpha * cantidad_de_nodos))\n",
    "        if nx.number_connected_components(grafo_pot) > 1:\n",
    "            continue\n",
    "        if grafo_pot.number_of_edges() > cantidad_de_aristas * (1 + rango_de_error):\n",
    "            continue\n",
    "        if grafo_pot.number_of_edges() < cantidad_de_aristas * (1 - rango_de_error):\n",
    "            continue\n",
    "        return grafo_pot\n",
    "    print(\"falla al crear grafo\")\n",
    "    return grafo_pot"
   ],
   "metadata": {
    "collapsed": false,
    "pycharm": {
     "name": "#%%\n"
    }
   }
  },
  {
   "cell_type": "code",
   "execution_count": 53,
   "outputs": [
    {
     "data": {
      "text/plain": "(50, 86)"
     },
     "execution_count": 53,
     "metadata": {},
     "output_type": "execute_result"
    }
   ],
   "source": [
    "grafo_erdy = generar_grafo_erdy()\n",
    "grafo_erdy.number_of_nodes(), grafo_erdy.number_of_edges()"
   ],
   "metadata": {
    "collapsed": false,
    "pycharm": {
     "name": "#%%\n"
    }
   }
  },
  {
   "cell_type": "code",
   "execution_count": 27,
   "outputs": [
    {
     "data": {
      "text/plain": "(50, 94)"
     },
     "execution_count": 27,
     "metadata": {},
     "output_type": "execute_result"
    }
   ],
   "source": [
    "grafo_pot = generar_grafo_pot(alpha=0.75)\n",
    "grafo_pot.number_of_nodes(), grafo_pot.number_of_edges()"
   ],
   "metadata": {
    "collapsed": false,
    "pycharm": {
     "name": "#%%\n"
    }
   }
  },
  {
   "cell_type": "markdown",
   "source": [
    "## Comparaciones"
   ],
   "metadata": {
    "collapsed": false
   }
  },
  {
   "cell_type": "code",
   "execution_count": 41,
   "outputs": [],
   "source": [
    "def distancia_media(excentricidad_del_grafo):\n",
    "    nodos = excentricidad_del_grafo.keys()\n",
    "    distancia_media = 0\n",
    "    for nodo in nodos:\n",
    "        distancia_media += excentricidad_del_grafo[nodo]\n",
    "    return distancia_media / len(excentricidad_del_grafo)\n",
    "\n",
    "def distribucion_de_distancia(excentricidad_del_grafo):\n",
    "    nodos = excentricidad_del_grafo.keys()\n",
    "    max = 0\n",
    "    for nodo in nodos:\n",
    "        distancia = excentricidad_del_grafo[nodo]\n",
    "        if max < distancia:\n",
    "            max = distancia\n",
    "    grados = [0] * (max + 1)\n",
    "    for nodo in nodos:\n",
    "        distancia = excentricidad_del_grafo[nodo]\n",
    "        grados[distancia] += 1\n",
    "    return np.array(grados)\n",
    "\n",
    "def datos_varios(grafo, imprimir = False):\n",
    "    diametro = nx.diameter(grafo)\n",
    "    clustering = metricas.clustering(grafo)\n",
    "    grado_prom = metricas.grado_promedio(grafo)\n",
    "    distribucion_distancias = nx.eccentricity(grafo)\n",
    "    distancia = distancia_media(distribucion_distancias)\n",
    "    if imprimir:\n",
    "        print(\"nodos: \", grafo.number_of_nodes())\n",
    "        print(\"aristas: \", grafo.number_of_edges())\n",
    "        print(\"clustering: \", clustering)\n",
    "        print(\"diametro: \", diametro)\n",
    "        print(\"distancia media: \", distancia)\n",
    "        print(\"grado promedio: \", grado_prom)\n",
    "        # nx.draw_networkx(grafo,node_size = 10,with_labels=False,alpha=0.75)\n",
    "    return grado_prom, metricas.distribucion_grados(grafo), diametro, clustering, distancia, distribucion_de_distancia(distribucion_distancias)"
   ],
   "metadata": {
    "collapsed": false,
    "pycharm": {
     "name": "#%%\n"
    }
   }
  },
  {
   "cell_type": "code",
   "execution_count": 90,
   "outputs": [],
   "source": [
    "def imprimir_datos(distribuciones, titulo, tipo, rango, log=False):\n",
    "    # rango = np.arange(len(distribucion))\n",
    "    for distribucion in distribuciones:\n",
    "        plt.plot(distribucion[1], label=distribucion[0])\n",
    "\n",
    "    # Para obtener el valor de alfa vistualmente\n",
    "    # x_m = 4\n",
    "    # alpha_prima = 1.7\n",
    "    # exponencial = list(map(lambda k: 5 * k ** (-alpha_prima), rango[x_m:]))\n",
    "    # plt.plot(rango[x_m:], exponencial)\n",
    "    # print(\"Alfa: \", alpha_prima + 1)\n",
    "\n",
    "    plt.xlabel(tipo)\n",
    "    plt.ylabel(\"cantidad\")\n",
    "    if log:\n",
    "        plt.xscale(\"log\")\n",
    "        plt.yscale(\"log\")\n",
    "    plt.title(titulo)\n",
    "    plt.legend()\n",
    "    plt.show()\n",
    "\n",
    "def imprimir_graficos(distribucion):\n",
    "    rango_max_grado = 0\n",
    "    rango_max_distancia = 0\n",
    "    rango_max_cluster = 0\n",
    "    titulo_grado = \"Distribucion de grado\"\n",
    "    titulo_distancia = \"Distribucion de distancia\"\n",
    "    titulo_cluster = \"Distribucion de clustering\"\n",
    "    grado = []\n",
    "    distancia = []\n",
    "    cluster = []\n",
    "    for (nombre, datos) in distribucion.items():\n",
    "        if len(datos[0]) > rango_max_grado:\n",
    "            rango_max_grado = len(datos[0])\n",
    "        if len(datos[1]) > rango_max_distancia:\n",
    "            rango_max_distancia = len(datos[0])\n",
    "        if len(datos[2]) > rango_max_cluster:\n",
    "            rango_max_cluster = len(datos[0])\n",
    "        grado.append([nombre, datos[0]])\n",
    "        distancia.append([nombre, datos[1]])\n",
    "        cluster.append([nombre, datos[2]])\n",
    "    imprimir_datos(grado, titulo_grado, \"grado\", rango_max_grado)\n",
    "    imprimir_datos(distancia, titulo_distancia, \"distancia\", rango_max_distancia)\n",
    "    imprimir_datos(cluster, titulo_cluster, \"cluster\", rango_max_cluster)\n"
   ],
   "metadata": {
    "collapsed": false,
    "pycharm": {
     "name": "#%%\n"
    }
   }
  },
  {
   "cell_type": "code",
   "execution_count": 80,
   "outputs": [],
   "source": [
    "def imprimir_comparaciones(d_grafos):\n",
    "    distribucion = {}\n",
    "    print(\"\\\\begin{center}\")\n",
    "    print(\"\\\\begin{tabular}{| c | c | c | c | c |}\")\n",
    "    print(\"\\t\\\\hline\")\n",
    "    print(\"\\tTipo de grafo & Grado prom & Diametro & Distancia media & Clustering \\\\\\\\ \\\\hline\")\n",
    "    for (nombre, grafo) in d_grafos.items():\n",
    "        grado_prom, distribucion_grado, diametro, clustering, distancia, distribucion_por_distancia = datos_varios(grafo)\n",
    "        distribucion[nombre] = [distribucion_grado, distribucion_por_distancia, clustering[0]]\n",
    "        print(\"\\t\", nombre, \" & \", round(grado_prom, 2), \" & \", diametro, \" & \", round(distancia, 2), \" & \", round(clustering[1], 2), \"\\\\\\\\\")\n",
    "    print(\"\\t\\\\hline\")\n",
    "    print(\"\\\\end{tabular}\")\n",
    "    print(\"\\\\end{center}\")\n",
    "    imprimir_graficos(distribucion)\n",
    "\n",
    "def ejecutar_comparaciones():\n",
    "    d_grafos = {}\n",
    "    d_grafos['TEG'] = mundo_TEG\n",
    "    d_grafos['mundo real'] = mundo_real\n",
    "    d_grafos['erdy'] = grafo_erdy\n",
    "    d_grafos['potencia'] = grafo_pot\n",
    "    imprimir_comparaciones(d_grafos)"
   ],
   "metadata": {
    "collapsed": false,
    "pycharm": {
     "name": "#%%\n"
    }
   }
  },
  {
   "cell_type": "code",
   "execution_count": 91,
   "outputs": [
    {
     "name": "stdout",
     "output_type": "stream",
     "text": [
      "\\begin{center}\n",
      "\\begin{tabular}{| c | c | c | c | c |}\n",
      "\t\\hline\n",
      "\tTipo de grafo & Grado prom & Diametro & Distancia media & Clustering \\\\ \\hline\n",
      "\t TEG  &  3.56  &  9  &  7.06  &  0.38 \\\\\n",
      "\t mundo real  &  4.02  &  21  &  15.17  &  0.48 \\\\\n",
      "\t erdy  &  3.44  &  8  &  6.54  &  0.04 \\\\\n",
      "\t potencia  &  3.76  &  6  &  4.96  &  0.05 \\\\\n",
      "\t\\hline\n",
      "\\end{tabular}\n",
      "\\end{center}\n"
     ]
    },
    {
     "data": {
      "text/plain": "<Figure size 432x288 with 1 Axes>",
      "image/png": "[encoded data removed]"
     },
     "metadata": {
      "needs_background": "light"
     },
     "output_type": "display_data"
    },
    {
     "data": {
      "text/plain": "<Figure size 432x288 with 1 Axes>",
      "image/png": "[encoded data removed]"
     },
     "metadata": {
      "needs_background": "light"
     },
     "output_type": "display_data"
    },
    {
     "data": {
      "text/plain": "<Figure size 432x288 with 1 Axes>",
      "image/png": "[encoded data removed]"
     },
     "metadata": {
      "needs_background": "light"
     },
     "output_type": "display_data"
    }
   ],
   "source": [
    "ejecutar_comparaciones()"
   ],
   "metadata": {
    "collapsed": false,
    "pycharm": {
     "name": "#%%\n"
    }
   }
  },
  {
   "cell_type": "code",
   "execution_count": 34,
   "outputs": [
    {
     "name": "stdout",
     "output_type": "stream",
     "text": [
      "nodos:  50\n",
      "aristas:  89\n",
      "clustering:  ([0, 0.0, 0.49999999999999994, 0.35555555555555546, 0.35, 0.35714285714285715, 0.28888888888888886, 0.3333333333333333, 0.2857142857142857], 0.37638095238095237)\n",
      "diametro:  9\n",
      "distancia media:  7.06\n",
      "grado promedio:  3.56\n"
     ]
    },
    {
     "data": {
      "text/plain": "(3.56,\n array([ 0,  1, 12, 15, 10,  7,  3,  1,  1]),\n 9,\n ([0,\n   0.0,\n   0.49999999999999994,\n   0.35555555555555546,\n   0.35,\n   0.35714285714285715,\n   0.28888888888888886,\n   0.3333333333333333,\n   0.2857142857142857],\n  0.37638095238095237),\n 7.06,\n array([ 0,  0,  0,  0,  0,  0, 12, 25, 11,  2]))"
     },
     "execution_count": 34,
     "metadata": {},
     "output_type": "execute_result"
    },
    {
     "data": {
      "text/plain": "<Figure size 432x288 with 1 Axes>",
      "image/png": "[encoded data removed]"
     },
     "metadata": {},
     "output_type": "display_data"
    }
   ],
   "source": [
    "datos_varios(mundo_TEG, True)"
   ],
   "metadata": {
    "collapsed": false,
    "pycharm": {
     "name": "#%%\n"
    }
   }
  },
  {
   "cell_type": "code",
   "execution_count": 47,
   "outputs": [
    {
     "ename": "NetworkXError",
     "evalue": "Found infinite path length because the graph is not connected",
     "output_type": "error",
     "traceback": [
      "\u001B[1;31m---------------------------------------------------------------------------\u001B[0m",
      "\u001B[1;31mNetworkXError\u001B[0m                             Traceback (most recent call last)",
      "Input \u001B[1;32mIn [47]\u001B[0m, in \u001B[0;36m<cell line: 1>\u001B[1;34m()\u001B[0m\n\u001B[1;32m----> 1\u001B[0m \u001B[43mnx\u001B[49m\u001B[38;5;241;43m.\u001B[39;49m\u001B[43meccentricity\u001B[49m\u001B[43m(\u001B[49m\u001B[43mgrafo_erdy\u001B[49m\u001B[43m)\u001B[49m\n",
      "File \u001B[1;32m~\\PycharmProjects\\pythonProject\\venv\\lib\\site-packages\\networkx\\algorithms\\distance_measures.py:264\u001B[0m, in \u001B[0;36meccentricity\u001B[1;34m(G, v, sp)\u001B[0m\n\u001B[0;32m    262\u001B[0m         \u001B[38;5;28;01melse\u001B[39;00m:\n\u001B[0;32m    263\u001B[0m             msg \u001B[38;5;241m=\u001B[39m \u001B[38;5;124m\"\u001B[39m\u001B[38;5;124mFound infinite path length because the graph is not\u001B[39m\u001B[38;5;124m\"\u001B[39m \u001B[38;5;124m\"\u001B[39m\u001B[38;5;124m connected\u001B[39m\u001B[38;5;124m\"\u001B[39m\n\u001B[1;32m--> 264\u001B[0m         \u001B[38;5;28;01mraise\u001B[39;00m nx\u001B[38;5;241m.\u001B[39mNetworkXError(msg)\n\u001B[0;32m    266\u001B[0m     e[n] \u001B[38;5;241m=\u001B[39m \u001B[38;5;28mmax\u001B[39m(length\u001B[38;5;241m.\u001B[39mvalues())\n\u001B[0;32m    268\u001B[0m \u001B[38;5;28;01mif\u001B[39;00m v \u001B[38;5;129;01min\u001B[39;00m G:\n",
      "\u001B[1;31mNetworkXError\u001B[0m: Found infinite path length because the graph is not connected"
     ]
    }
   ],
   "source": [
    "nx.eccentricity(grafo_erdy)"
   ],
   "metadata": {
    "collapsed": false,
    "pycharm": {
     "name": "#%%\n"
    }
   }
  }
 ],
 "metadata": {
  "kernelspec": {
   "display_name": "Python 3",
   "language": "python",
   "name": "python3"
  },
  "language_info": {
   "codemirror_mode": {
    "name": "ipython",
    "version": 2
   },
   "file_extension": ".py",
   "mimetype": "text/x-python",
   "name": "python",
   "nbconvert_exporter": "python",
   "pygments_lexer": "ipython2",
   "version": "2.7.6"
  }
 },
 "nbformat": 4,
 "nbformat_minor": 0
}